{
 "cells": [
  {
   "attachments": {},
   "cell_type": "markdown",
   "metadata": {},
   "source": [
    "# How to deploy BLOOM to Amazon SageMaker using Text-Generation-Inference\n",
    "\n",
    "This is an example on how to deploy the open-source LLMs, like [BLOOM](bigscience/bloom) to Amazon SageMaker for inference. We will deploy BLOOM 176B to Amazon SageMake for real-time inference using Hugging Face new LLM solution [text-generation-inference](https://github.com/huggingface/text-generation-inference). \n",
    "\n",
    "The example covers:\n",
    "1. Setup development environment\n",
    "2. Create `HuggingFace` model with TGI container\n",
    "3. Deploy BLOOM to Amazon SageMaker\n",
    "4. Run inference on BLOOM with different parameters\n",
    "5. Run token streaming on BLOOM\n",
    "6. Clean up\n",
    "\n",
    "## What is Text Generation Inference?\n",
    "\n",
    "[Text Generation Inference](https://github.com/huggingface/text-generation-inference) is a library built by Hugging Face to offer an end-to-end optimized solution to run inference on open source LLMs, already powering Hugging Face services running at scale such as the Hugging Face Inference API for BLOOM, GPT-NeoX, SantaCoder, and many more LLMs. In addition, Text Generation Inference is already used by customers such as IBM, Grammarly, and the Open-Assistant initiative. \\\n",
    "Text Generation Inference implements optimization for all supported model architectures, including:\n",
    "* Tensor Parallelism and custom cuda kernels\n",
    "* Quantization\n",
    "* Dynamic batching of incoming requests for increased total throughput \n",
    "* Accelerated weight loading (start-up time) with safetensors\n",
    "* Logits warpers (temperature scaling, topk, repetition penalty ...)\n",
    "* Stop sequences, Log probabilities\n",
    "* Token streaming using Server-Sent Events (SSE)\n",
    "\n",
    "Officially supported model architectures are currently: \n",
    "* [BLOOM](https://huggingface.co/bigscience/bloom) / [BLOOMZ](https://huggingface.co/bigscience/bloomz)\n",
    "* [MT0-XXL](https://huggingface.co/bigscience/mt0-xxl)\n",
    "* [Galactica](https://huggingface.co/facebook/galactica-120b)\n",
    "* [SantaCoder](https://huggingface.co/bigcode/santacoder)\n",
    "* [GPT-Neox 20B](https://huggingface.co/EleutherAI/gpt-neox-20b) (joi, pythia, lotus, rosey, chip)\n",
    "* [FLAN-T5-XXL](https://huggingface.co/google/flan-t5-xxl) (T5-11B)"
   ]
  },
  {
   "attachments": {},
   "cell_type": "markdown",
   "metadata": {},
   "source": [
    "## 1. Setup development environment\n",
    "\n",
    "We are going to use the `sagemaker` python SDK to deploy BLOOM to Amazon SageMaker. We need to make sure to have an AWS account configured and the `sagemaker` python SDK installed. "
   ]
  },
  {
   "cell_type": "code",
   "execution_count": 1,
   "metadata": {},
   "outputs": [
    {
     "name": "stdout",
     "output_type": "stream",
     "text": [
      "\u001b[31mERROR: pip's dependency resolver does not currently take into account all the packages that are installed. This behaviour is the source of the following dependency conflicts.\n",
      "aiobotocore 2.1.2 requires botocore<1.23.25,>=1.23.24, but you have botocore 1.29.80 which is incompatible.\u001b[0m\n"
     ]
    }
   ],
   "source": [
    "!pip install sagemaker --upgrade --quiet"
   ]
  },
  {
   "attachments": {},
   "cell_type": "markdown",
   "metadata": {},
   "source": [
    "If you are going to use Sagemaker in a local environment. You need access to an IAM Role with the required permissions for Sagemaker. You can find [here](https://docs.aws.amazon.com/sagemaker/latest/dg/sagemaker-roles.html) more about it.\n"
   ]
  },
  {
   "cell_type": "code",
   "execution_count": 19,
   "metadata": {},
   "outputs": [],
   "source": [
    "import os \n",
    "\n",
    "os.environ['AWS_DEFAULT_REGION'] = 'us-east-1'\n",
    "os.environ[\"AWS_PROFILE\"] = \"hf-sm\""
   ]
  },
  {
   "cell_type": "code",
   "execution_count": 20,
   "metadata": {},
   "outputs": [
    {
     "name": "stderr",
     "output_type": "stream",
     "text": [
      "Couldn't call 'get_role' to get Role ARN from role name philippschmid to get Role path.\n"
     ]
    },
    {
     "name": "stdout",
     "output_type": "stream",
     "text": [
      "sagemaker role arn: arn:aws:iam::558105141721:role/sagemaker_execution_role\n",
      "sagemaker session region: us-east-1\n"
     ]
    }
   ],
   "source": [
    "import sagemaker\n",
    "import boto3\n",
    "sess = sagemaker.Session()\n",
    "# sagemaker session bucket -> used for uploading data, models and logs\n",
    "# sagemaker will automatically create this bucket if it not exists\n",
    "sagemaker_session_bucket=None\n",
    "if sagemaker_session_bucket is None and sess is not None:\n",
    "    # set to default bucket if a bucket name is not given\n",
    "    sagemaker_session_bucket = sess.default_bucket()\n",
    "\n",
    "try:\n",
    "    role = sagemaker.get_execution_role()\n",
    "except ValueError:\n",
    "    iam = boto3.client('iam')\n",
    "    role = iam.get_role(RoleName='sagemaker_execution_role')['Role']['Arn']\n",
    "\n",
    "sess = sagemaker.Session(default_bucket=sagemaker_session_bucket)\n",
    "\n",
    "print(f\"sagemaker role arn: {role}\")\n",
    "print(f\"sagemaker session region: {sess.boto_region_name}\")\n"
   ]
  },
  {
   "cell_type": "code",
   "execution_count": 32,
   "metadata": {},
   "outputs": [
    {
     "data": {
      "text/plain": [
       "'558105141721'"
      ]
     },
     "execution_count": 32,
     "metadata": {},
     "output_type": "execute_result"
    }
   ],
   "source": []
  },
  {
   "attachments": {},
   "cell_type": "markdown",
   "metadata": {},
   "source": [
    "## 2. Create `HuggingFace` model with TGI container\n",
    "\n",
    "As of today the text-generation-inference container is not yet available natively inside `sagemaker`. We will use the `HuggingFaceModel` model class with a custom `image_uri` pointing to the registry image of the text-generation-inference container. The text-generation-inference container is available in Github Repository as package. You can find more information about the container [here](https://github.com/huggingface/text-generation-inference/pkgs/container/text-generation-inference). \n",
    "\n",
    "To make the use with SageMaker easier we uploaded a version of the container to a public ECR repository. If you want to migrate the container yourself We created a `create_ecr_contaienr.sh` script we can use to migrate the container to ECR.\n",
    "_Note: make sure you have permissions to create ECR repositories and docker running._\n",
    "```python\n",
    "image_uri = \"ghcr.io/huggingface/text-generation-inference:sagemaker-sha-4b5e36d\"\n",
    "account_id = sess.account_id()\n",
    "region = sess.boto_region_name\n",
    "\n",
    "!chmod +x create_ecr_container.sh\n",
    "!./create_ecr_container.sh {image_uri} {account_id} {region}\n",
    "\n",
    "image_uri = f\"{account_id}.dkr.ecr.{region}.amazonaws.com/sagemaker-text-generation-inference:latest\"\n",
    "```\n",
    "\n"
   ]
  },
  {
   "cell_type": "code",
   "execution_count": 37,
   "metadata": {},
   "outputs": [
    {
     "name": "stdout",
     "output_type": "stream",
     "text": [
      "Pulling base image ghcr.io/huggingface/text-generation-inference:sagemaker-sha-4b5e36d...\n",
      "sagemaker-sha-4b5e36d: Pulling from huggingface/text-generation-inference\n",
      "\n",
      "\u001b[1B4908093d: Pulling fs layer \n",
      "\u001b[1B2704fd22: Pulling fs layer \n",
      "\u001b[1B2dd0fe9d: Pulling fs layer \n",
      "\u001b[1B06729f70: Pulling fs layer \n",
      "\u001b[1B8e302abf: Pulling fs layer \n",
      "\u001b[1Beaf0783e: Pulling fs layer \n",
      "\u001b[1Bd7bf559f: Pulling fs layer \n",
      "\u001b[1B0dcce85d: Pulling fs layer \n",
      "\u001b[1B12c0cbdb: Pulling fs layer \n",
      "\u001b[1B0d94e1e8: Pulling fs layer \n",
      "\u001b[1B049f791d: Pulling fs layer \n",
      "\u001b[1B0c8ee405: Pulling fs layer \n",
      "\u001b[1B59924e18: Pulling fs layer \n",
      "\u001b[1Bb700ef54: Pulling fs layer \n",
      "\u001b[1Be1a7694c: Pulling fs layer \n",
      "\u001b[1B0d3e3a35: Pulling fs layer \n",
      "\u001b[1B95b5d6d7: Pulling fs layer \n",
      "\u001b[1B71368a0f: Pulling fs layer \n",
      "\u001b[1Ba509dd5d: Pulling fs layer \n",
      "\u001b[1B95332b84: Pulling fs layer \n",
      "\u001b[1B243e0100: Pulling fs layer \n",
      "\u001b[1B8f8af934: Pull complete 595MB/1.595MBB\u001b[21A\u001b[2K\u001b[21A\u001b[2K\u001b[21A\u001b[2K\u001b[21A\u001b[2K\u001b[20A\u001b[2K\u001b[21A\u001b[2K\u001b[20A\u001b[2K\u001b[20A\u001b[2K\u001b[20A\u001b[2K\u001b[20A\u001b[2K\u001b[20A\u001b[2K\u001b[20A\u001b[2K\u001b[20A\u001b[2K\u001b[20A\u001b[2K\u001b[20A\u001b[2K\u001b[20A\u001b[2K\u001b[18A\u001b[2K\u001b[20A\u001b[2K\u001b[20A\u001b[2K\u001b[20A\u001b[2K\u001b[20A\u001b[2K\u001b[20A\u001b[2K\u001b[20A\u001b[2K\u001b[20A\u001b[2K\u001b[20A\u001b[2K\u001b[20A\u001b[2K\u001b[20A\u001b[2K\u001b[20A\u001b[2K\u001b[20A\u001b[2K\u001b[20A\u001b[2K\u001b[17A\u001b[2K\u001b[17A\u001b[2K\u001b[17A\u001b[2K\u001b[22A\u001b[2K\u001b[17A\u001b[2K\u001b[16A\u001b[2K\u001b[17A\u001b[2K\u001b[17A\u001b[2K\u001b[17A\u001b[2K\u001b[17A\u001b[2K\u001b[17A\u001b[2K\u001b[2K\u001b[17A\u001b[2K\u001b[17A\u001b[2K\u001b[17A\u001b[2K\u001b[17A\u001b[2K\u001b[17A\u001b[2K\u001b[14A\u001b[2K\u001b[17A\u001b[2K\u001b[17A\u001b[2K\u001b[17A\u001b[2K\u001b[17A\u001b[2K\u001b[17A\u001b[2K\u001b[22A\u001b[2K\u001b[17A\u001b[2K\u001b[17A\u001b[2K\u001b[17A\u001b[2K\u001b[17A\u001b[2K\u001b[17A\u001b[2K\u001b[17A\u001b[2K\u001b[17A\u001b[2K\u001b[17A\u001b[2KDownloading  69.79MB/1.379GB\u001b[17A\u001b[2K\u001b[17A\u001b[2K\u001b[17A\u001b[2K\u001b[17A\u001b[2K\u001b[17A\u001b[2K\u001b[17A\u001b[2K\u001b[22A\u001b[2K\u001b[17A\u001b[2K\u001b[17A\u001b[2K\u001b[17A\u001b[2K\u001b[17A\u001b[2K\u001b[17A\u001b[2K\u001b[17A\u001b[2K\u001b[17A\u001b[2K\u001b[17A\u001b[2K\u001b[17A\u001b[2K\u001b[17A\u001b[2K\u001b[13A\u001b[2K\u001b[17A\u001b[2K\u001b[17A\u001b[2K\u001b[17A\u001b[2K\u001b[17A\u001b[2K\u001b[17A\u001b[2K\u001b[17A\u001b[2K\u001b[13A\u001b[2K\u001b[17A\u001b[2K\u001b[17A\u001b[2K\u001b[17A\u001b[2K\u001b[22A\u001b[2K\u001b[17A\u001b[2K\u001b[17A\u001b[2K\u001b[13A\u001b[2K\u001b[17A\u001b[2K\u001b[17A\u001b[2K\u001b[17A\u001b[2K\u001b[17A\u001b[2K\u001b[17A\u001b[2K\u001b[13A\u001b[2K\u001b[17A\u001b[2K\u001b[17A\u001b[2K\u001b[17A\u001b[2K\u001b[13A\u001b[2K\u001b[17A\u001b[2K\u001b[17A\u001b[2K\u001b[17A\u001b[2K\u001b[13A\u001b[2K\u001b[17A\u001b[2K\u001b[17A\u001b[2K\u001b[22A\u001b[2K\u001b[17A\u001b[2K\u001b[17A\u001b[2K\u001b[17A\u001b[2K\u001b[17A\u001b[2K\u001b[13A\u001b[2K\u001b[17A\u001b[2K\u001b[17A\u001b[2K\u001b[17A\u001b[2K\u001b[13A\u001b[2K\u001b[17A\u001b[2K\u001b[17A\u001b[2K\u001b[17A\u001b[2K\u001b[17A\u001b[2K\u001b[17A\u001b[2K\u001b[13A\u001b[2K\u001b[17A\u001b[2K\u001b[17A\u001b[2K\u001b[17A\u001b[2K\u001b[22A\u001b[2K\u001b[17A\u001b[2K\u001b[13A\u001b[2K\u001b[17A\u001b[2K\u001b[17A\u001b[2K\u001b[13A\u001b[2K\u001b[17A\u001b[2K\u001b[13A\u001b[2K\u001b[17A\u001b[2K\u001b[13A\u001b[2K\u001b[17A\u001b[2K\u001b[13A\u001b[2K\u001b[17A\u001b[2K\u001b[13A\u001b[2K\u001b[17A\u001b[2K\u001b[13A\u001b[2K\u001b[17A\u001b[2K\u001b[17A\u001b[2K\u001b[13A\u001b[2K\u001b[17A\u001b[2K\u001b[13A\u001b[2K\u001b[17A\u001b[2K\u001b[13A\u001b[2K\u001b[17A\u001b[2K\u001b[13A\u001b[2K\u001b[17A\u001b[2K\u001b[13A\u001b[2K\u001b[17A\u001b[2K\u001b[17A\u001b[2K\u001b[17A\u001b[2K\u001b[13A\u001b[2K\u001b[17A\u001b[2K\u001b[13A\u001b[2K\u001b[17A\u001b[2K\u001b[17A\u001b[2K\u001b[17A\u001b[2K\u001b[13A\u001b[2K\u001b[17A\u001b[2K\u001b[17A\u001b[2K\u001b[13A\u001b[2K\u001b[17A\u001b[2K\u001b[13A\u001b[2K\u001b[17A\u001b[2K\u001b[13A\u001b[2K\u001b[17A\u001b[2K\u001b[17A\u001b[2K\u001b[17A\u001b[2K\u001b[13A\u001b[2K\u001b[17A\u001b[2K\u001b[13A\u001b[2K\u001b[17A\u001b[2K\u001b[13A\u001b[2K\u001b[13A\u001b[2K\u001b[17A\u001b[2K\u001b[17A\u001b[2K\u001b[13A\u001b[2K\u001b[17A\u001b[2K\u001b[13A\u001b[2K\u001b[17A\u001b[2K\u001b[13A\u001b[2K\u001b[17A\u001b[2K\u001b[13A\u001b[2K\u001b[17A\u001b[2K\u001b[13A\u001b[2K\u001b[13A\u001b[2K\u001b[13A\u001b[2K\u001b[17A\u001b[2K\u001b[13A\u001b[2K\u001b[17A\u001b[2K\u001b[17A\u001b[2K\u001b[13A\u001b[2K\u001b[17A\u001b[2K\u001b[13A\u001b[2K\u001b[17A\u001b[2K\u001b[13A\u001b[2K\u001b[17A\u001b[2K\u001b[17A\u001b[2K\u001b[13A\u001b[2K\u001b[17A\u001b[2K\u001b[13A\u001b[2K\u001b[17A\u001b[2K\u001b[22A\u001b[2K\u001b[13A\u001b[2K\u001b[17A\u001b[2K\u001b[17A\u001b[2K\u001b[13A\u001b[2K\u001b[13A\u001b[2K\u001b[13A\u001b[2K\u001b[13A\u001b[2K\u001b[13A\u001b[2K\u001b[17A\u001b[2K\u001b[13A\u001b[2K\u001b[17A\u001b[2K\u001b[13A\u001b[2K\u001b[17A\u001b[2K\u001b[13A\u001b[2K\u001b[17A\u001b[2K\u001b[17A\u001b[2K\u001b[13A\u001b[2K\u001b[17A\u001b[2K\u001b[22A\u001b[2K\u001b[17A\u001b[2K\u001b[13A\u001b[2K\u001b[17A\u001b[2K\u001b[13A\u001b[2K\u001b[17A\u001b[2K\u001b[17A\u001b[2K\u001b[13A\u001b[2K\u001b[17A\u001b[2K\u001b[17A\u001b[2K\u001b[13A\u001b[2K\u001b[17A\u001b[2K\u001b[17A\u001b[2K\u001b[13A\u001b[2K\u001b[17A\u001b[2K\u001b[13A\u001b[2K\u001b[17A\u001b[2K\u001b[13A\u001b[2K\u001b[17A\u001b[2K\u001b[13A\u001b[2K\u001b[17A\u001b[2K\u001b[13A\u001b[2K\u001b[17A\u001b[2K\u001b[13A\u001b[2K\u001b[17A\u001b[2K\u001b[22A\u001b[2K\u001b[17A\u001b[2K\u001b[13A\u001b[2K\u001b[17A\u001b[2K\u001b[13A\u001b[2K\u001b[17A\u001b[2K\u001b[17A\u001b[2K\u001b[17A\u001b[2K\u001b[13A\u001b[2K\u001b[17A\u001b[2K\u001b[13A\u001b[2K\u001b[17A\u001b[2K\u001b[17A\u001b[2K\u001b[13A\u001b[2K\u001b[17A\u001b[2K\u001b[13A\u001b[2K\u001b[17A\u001b[2K\u001b[17A\u001b[2K\u001b[17A\u001b[2K\u001b[13A\u001b[2K\u001b[17A\u001b[2K\u001b[13A\u001b[2K\u001b[17A\u001b[2K\u001b[17A\u001b[2K\u001b[13A\u001b[2K\u001b[17A\u001b[2K\u001b[13A\u001b[2K\u001b[17A\u001b[2K\u001b[13A\u001b[2K\u001b[17A\u001b[2K\u001b[13A\u001b[2K\u001b[22A\u001b[2K\u001b[17A\u001b[2K\u001b[17A\u001b[2K\u001b[17A\u001b[2K\u001b[17A\u001b[2K\u001b[13A\u001b[2K\u001b[17A\u001b[2K\u001b[13A\u001b[2K\u001b[13A\u001b[2K\u001b[17A\u001b[2K\u001b[13A\u001b[2K\u001b[17A\u001b[2K\u001b[13A\u001b[2K\u001b[17A\u001b[2K\u001b[13A\u001b[2K\u001b[17A\u001b[2K\u001b[13A\u001b[2K\u001b[17A\u001b[2K\u001b[13A\u001b[2K\u001b[17A\u001b[2K\u001b[17A\u001b[2K\u001b[17A\u001b[2K\u001b[17A\u001b[2K\u001b[13A\u001b[2K\u001b[17A\u001b[2K\u001b[13A\u001b[2K\u001b[17A\u001b[2K\u001b[13A\u001b[2K\u001b[17A\u001b[2K\u001b[13A\u001b[2K\u001b[13A\u001b[2K\u001b[17A\u001b[2K\u001b[17A\u001b[2K\u001b[17A\u001b[2K\u001b[13A\u001b[2K\u001b[17A\u001b[2K\u001b[13A\u001b[2K\u001b[17A\u001b[2K\u001b[13A\u001b[2K\u001b[13A\u001b[2K\u001b[13A\u001b[2K\u001b[17A\u001b[2K\u001b[13A\u001b[2K\u001b[17A\u001b[2K\u001b[17A\u001b[2K\u001b[13A\u001b[2K\u001b[17A\u001b[2K\u001b[13A\u001b[2K\u001b[17A\u001b[2K\u001b[13A\u001b[2K\u001b[17A\u001b[2K\u001b[13A\u001b[2K\u001b[17A\u001b[2K\u001b[13A\u001b[2K\u001b[17A\u001b[2K\u001b[13A\u001b[2K\u001b[17A\u001b[2K\u001b[13A\u001b[2K\u001b[17A\u001b[2K\u001b[13A\u001b[2K\u001b[17A\u001b[2K\u001b[13A\u001b[2K\u001b[13A\u001b[2K\u001b[17A\u001b[2K\u001b[17A\u001b[2K\u001b[17A\u001b[2K\u001b[17A\u001b[2K\u001b[13A\u001b[2K\u001b[17A\u001b[2K\u001b[13A\u001b[2K\u001b[17A\u001b[2K\u001b[13A\u001b[2K\u001b[17A\u001b[2K\u001b[13A\u001b[2K\u001b[17A\u001b[2K\u001b[13A\u001b[2K\u001b[17A\u001b[2K\u001b[13A\u001b[2K\u001b[17A\u001b[2K\u001b[13A\u001b[2K\u001b[17A\u001b[2K\u001b[13A\u001b[2K\u001b[17A\u001b[2K\u001b[13A\u001b[2K\u001b[17A\u001b[2K\u001b[13A\u001b[2K\u001b[13A\u001b[2K\u001b[17A\u001b[2K\u001b[13A\u001b[2K\u001b[17A\u001b[2K\u001b[13A\u001b[2K\u001b[17A\u001b[2K\u001b[13A\u001b[2K\u001b[17A\u001b[2K\u001b[17A\u001b[2K\u001b[13A\u001b[2K\u001b[13A\u001b[2K\u001b[13A\u001b[2K\u001b[13A\u001b[2K\u001b[17A\u001b[2K\u001b[13A\u001b[2K\u001b[13A\u001b[2K\u001b[17A\u001b[2K\u001b[13A\u001b[2K\u001b[17A\u001b[2K\u001b[17A\u001b[2K\u001b[13A\u001b[2K\u001b[13A\u001b[2K\u001b[13A\u001b[2K\u001b[17A\u001b[2K\u001b[13A\u001b[2K\u001b[17A\u001b[2K\u001b[22A\u001b[2K\u001b[13A\u001b[2K\u001b[17A\u001b[2K\u001b[13A\u001b[2K\u001b[17A\u001b[2K\u001b[13A\u001b[2K\u001b[17A\u001b[2K\u001b[13A\u001b[2K\u001b[17A\u001b[2K\u001b[13A\u001b[2K\u001b[17A\u001b[2K\u001b[13A\u001b[2K\u001b[17A\u001b[2K\u001b[17A\u001b[2K\u001b[13A\u001b[2K\u001b[17A\u001b[2K\u001b[13A\u001b[2K\u001b[17A\u001b[2K\u001b[13A\u001b[2K\u001b[17A\u001b[2K\u001b[13A\u001b[2K\u001b[17A\u001b[2K\u001b[13A\u001b[2K\u001b[17A\u001b[2K\u001b[13A\u001b[2K\u001b[17A\u001b[2K\u001b[13A\u001b[2K\u001b[17A\u001b[2K\u001b[13A\u001b[2K\u001b[17A\u001b[2K\u001b[13A\u001b[2K\u001b[17A\u001b[2K\u001b[13A\u001b[2K\u001b[13A\u001b[2K\u001b[17A\u001b[2K\u001b[13A\u001b[2K\u001b[17A\u001b[2K\u001b[13A\u001b[2K\u001b[17A\u001b[2K\u001b[13A\u001b[2K\u001b[17A\u001b[2K\u001b[22A\u001b[2K\u001b[17A\u001b[2K\u001b[17A\u001b[2K\u001b[17A\u001b[2K\u001b[13A\u001b[2K\u001b[17A\u001b[2K\u001b[13A\u001b[2K\u001b[17A\u001b[2K\u001b[13A\u001b[2K\u001b[17A\u001b[2K\u001b[13A\u001b[2K\u001b[17A\u001b[2K\u001b[17A\u001b[2K\u001b[13A\u001b[2K\u001b[17A\u001b[2K\u001b[17A\u001b[2K\u001b[13A\u001b[2K\u001b[17A\u001b[2K\u001b[13A\u001b[2K\u001b[13A\u001b[2K\u001b[17A\u001b[2K\u001b[13A\u001b[2K\u001b[17A\u001b[2K\u001b[13A\u001b[2K\u001b[17A\u001b[2K\u001b[22A\u001b[2K\u001b[13A\u001b[2K\u001b[17A\u001b[2K\u001b[17A\u001b[2K\u001b[13A\u001b[2K\u001b[17A\u001b[2K\u001b[17A\u001b[2K\u001b[13A\u001b[2K\u001b[17A\u001b[2K\u001b[17A\u001b[2K\u001b[13A\u001b[2K\u001b[17A\u001b[2K\u001b[13A\u001b[2K\u001b[17A\u001b[2K\u001b[13A\u001b[2K\u001b[17A\u001b[2K\u001b[13A\u001b[2K\u001b[17A\u001b[2K\u001b[13A\u001b[2K\u001b[13A\u001b[2K\u001b[17A\u001b[2K\u001b[17A\u001b[2K\u001b[22A\u001b[2K\u001b[17A\u001b[2K\u001b[13A\u001b[2K\u001b[17A\u001b[2K\u001b[13A\u001b[2K\u001b[17A\u001b[2K\u001b[13A\u001b[2K\u001b[17A\u001b[2K\u001b[13A\u001b[2K\u001b[17A\u001b[2K\u001b[13A\u001b[2K\u001b[17A\u001b[2K\u001b[13A\u001b[2K\u001b[17A\u001b[2K\u001b[17A\u001b[2K\u001b[17A\u001b[2K\u001b[17A\u001b[2K\u001b[17A\u001b[2K\u001b[13A\u001b[2K\u001b[17A\u001b[2K\u001b[13A\u001b[2K\u001b[17A\u001b[2K\u001b[22A\u001b[2K\u001b[17A\u001b[2K\u001b[13A\u001b[2K\u001b[17A\u001b[2K\u001b[13A\u001b[2K\u001b[17A\u001b[2K\u001b[13A\u001b[2K\u001b[17A\u001b[2K\u001b[13A\u001b[2K\u001b[17A\u001b[2K\u001b[13A\u001b[2K\u001b[17A\u001b[2K\u001b[13A\u001b[2K\u001b[17A\u001b[2K\u001b[17A\u001b[2K\u001b[13A\u001b[2K\u001b[17A\u001b[2K\u001b[13A\u001b[2K\u001b[17A\u001b[2K\u001b[13A\u001b[2K\u001b[17A\u001b[2K\u001b[13A\u001b[2K\u001b[17A\u001b[2K\u001b[13A\u001b[2K\u001b[13A\u001b[2K\u001b[17A\u001b[2K\u001b[13A\u001b[2K\u001b[13A\u001b[2K\u001b[17A\u001b[2K\u001b[13A\u001b[2K\u001b[17A\u001b[2K\u001b[13A\u001b[2K\u001b[17A\u001b[2K\u001b[13A\u001b[2K\u001b[17A\u001b[2K\u001b[13A\u001b[2K\u001b[13A\u001b[2K\u001b[22A\u001b[2K\u001b[13A\u001b[2K\u001b[17A\u001b[2K\u001b[13A\u001b[2K\u001b[17A\u001b[2K\u001b[13A\u001b[2K\u001b[17A\u001b[2K\u001b[13A\u001b[2K\u001b[17A\u001b[2K\u001b[13A\u001b[2K\u001b[17A\u001b[2K\u001b[13A\u001b[2K\u001b[17A\u001b[2K\u001b[13A\u001b[2K\u001b[13A\u001b[2K\u001b[17A\u001b[2K\u001b[13A\u001b[2K\u001b[13A\u001b[2K\u001b[13A\u001b[2K\u001b[17A\u001b[2K\u001b[13A\u001b[2K\u001b[17A\u001b[2K\u001b[13A\u001b[2K\u001b[17A\u001b[2K\u001b[13A\u001b[2K\u001b[17A\u001b[2K\u001b[13A\u001b[2K\u001b[17A\u001b[2K\u001b[13A\u001b[2K\u001b[17A\u001b[2K\u001b[13A\u001b[2K\u001b[17A\u001b[2K\u001b[17A\u001b[2K\u001b[17A\u001b[2K\u001b[17A\u001b[2K\u001b[17A\u001b[2K\u001b[17A\u001b[2K\u001b[13A\u001b[2K\u001b[22A\u001b[2K\u001b[17A\u001b[2K\u001b[13A\u001b[2K\u001b[17A\u001b[2K\u001b[13A\u001b[2K\u001b[17A\u001b[2K\u001b[13A\u001b[2K\u001b[17A\u001b[2K\u001b[13A\u001b[2K\u001b[17A\u001b[2K\u001b[13A\u001b[2K\u001b[17A\u001b[2K\u001b[13A\u001b[2K\u001b[17A\u001b[2K\u001b[13A\u001b[2K\u001b[17A\u001b[2K\u001b[13A\u001b[2K\u001b[17A\u001b[2K\u001b[13A\u001b[2K\u001b[17A\u001b[2K\u001b[13A\u001b[2K\u001b[17A\u001b[2K\u001b[13A\u001b[2K\u001b[13A\u001b[2K\u001b[22A\u001b[2K\u001b[17A\u001b[2K\u001b[13A\u001b[2K\u001b[13A\u001b[2K\u001b[13A\u001b[2K\u001b[17A\u001b[2K\u001b[13A\u001b[2K\u001b[17A\u001b[2K\u001b[13A\u001b[2K\u001b[17A\u001b[2K\u001b[17A\u001b[2K\u001b[13A\u001b[2K\u001b[17A\u001b[2K\u001b[17A\u001b[2K\u001b[13A\u001b[2K\u001b[17A\u001b[2K\u001b[13A\u001b[2K\u001b[17A\u001b[2K\u001b[13A\u001b[2K\u001b[17A\u001b[2K\u001b[13A\u001b[2K\u001b[22A\u001b[2K\u001b[17A\u001b[2K\u001b[13A\u001b[2K\u001b[17A\u001b[2K\u001b[13A\u001b[2K\u001b[13A\u001b[2K\u001b[17A\u001b[2K\u001b[13A\u001b[2K\u001b[17A\u001b[2K\u001b[13A\u001b[2K\u001b[17A\u001b[2K\u001b[13A\u001b[2K\u001b[17A\u001b[2K\u001b[13A\u001b[2K\u001b[17A\u001b[2K\u001b[13A\u001b[2K\u001b[17A\u001b[2K\u001b[13A\u001b[2K\u001b[17A\u001b[2K\u001b[13A\u001b[2K\u001b[17A\u001b[2K\u001b[13A\u001b[2K\u001b[17A\u001b[2K\u001b[13A\u001b[2K\u001b[17A\u001b[2K\u001b[22A\u001b[2K\u001b[17A\u001b[2K\u001b[13A\u001b[2K\u001b[17A\u001b[2K\u001b[13A\u001b[2K\u001b[17A\u001b[2K\u001b[13A\u001b[2K\u001b[17A\u001b[2K\u001b[17A\u001b[2K\u001b[13A\u001b[2K\u001b[17A\u001b[2K\u001b[13A\u001b[2K\u001b[17A\u001b[2K\u001b[13A\u001b[2K\u001b[17A\u001b[2K\u001b[13A\u001b[2K\u001b[17A\u001b[2K\u001b[17A\u001b[2K\u001b[13A\u001b[2K\u001b[17A\u001b[2K\u001b[13A\u001b[2K\u001b[17A\u001b[2K\u001b[17A\u001b[2K\u001b[17A\u001b[2K\u001b[17A\u001b[2K\u001b[13A\u001b[2K\u001b[17A\u001b[2K\u001b[13A\u001b[2K\u001b[17A\u001b[2K\u001b[13A\u001b[2K\u001b[17A\u001b[2K\u001b[13A\u001b[2K\u001b[17A\u001b[2K\u001b[13A\u001b[2K\u001b[17A\u001b[2K\u001b[13A\u001b[2K\u001b[17A\u001b[2K\u001b[13A\u001b[2K\u001b[17A\u001b[2K\u001b[17A\u001b[2K\u001b[13A\u001b[2K\u001b[13A\u001b[2K\u001b[17A\u001b[2K\u001b[13A\u001b[2K\u001b[17A\u001b[2K\u001b[13A\u001b[2K\u001b[17A\u001b[2K\u001b[17A\u001b[2K\u001b[13A\u001b[2K\u001b[17A\u001b[2K\u001b[13A\u001b[2K\u001b[13A\u001b[2K\u001b[17A\u001b[2K\u001b[13A\u001b[2K\u001b[17A\u001b[2K\u001b[13A\u001b[2K\u001b[17A\u001b[2K\u001b[13A\u001b[2K\u001b[17A\u001b[2K\u001b[13A\u001b[2K\u001b[13A\u001b[2K\u001b[17A\u001b[2K\u001b[22A\u001b[2K\u001b[17A\u001b[2K\u001b[17A\u001b[2K\u001b[13A\u001b[2K\u001b[17A\u001b[2K\u001b[13A\u001b[2K\u001b[17A\u001b[2K\u001b[13A\u001b[2K\u001b[17A\u001b[2K\u001b[13A\u001b[2K\u001b[17A\u001b[2K\u001b[17A\u001b[2K\u001b[13A\u001b[2K\u001b[17A\u001b[2K\u001b[13A\u001b[2K\u001b[17A\u001b[2K\u001b[13A\u001b[2K\u001b[17A\u001b[2K\u001b[13A\u001b[2K\u001b[13A\u001b[2K\u001b[17A\u001b[2K\u001b[13A\u001b[2K\u001b[13A\u001b[2K\u001b[17A\u001b[2K\u001b[13A\u001b[2K\u001b[17A\u001b[2K\u001b[22A\u001b[2K\u001b[13A\u001b[2K\u001b[17A\u001b[2K\u001b[17A\u001b[2K\u001b[13A\u001b[2K\u001b[13A\u001b[2K\u001b[17A\u001b[2K\u001b[13A\u001b[2K\u001b[17A\u001b[2K\u001b[13A\u001b[2K\u001b[17A\u001b[2K\u001b[13A\u001b[2K\u001b[17A\u001b[2K\u001b[13A\u001b[2K\u001b[17A\u001b[2K\u001b[17A\u001b[2K\u001b[13A\u001b[2K\u001b[17A\u001b[2K\u001b[17A\u001b[2K\u001b[13A\u001b[2K\u001b[17A\u001b[2K\u001b[13A\u001b[2K\u001b[17A\u001b[2K\u001b[13A\u001b[2K\u001b[17A\u001b[2K\u001b[13A\u001b[2K\u001b[22A\u001b[2K\u001b[13A\u001b[2K\u001b[17A\u001b[2K\u001b[17A\u001b[2K\u001b[13A\u001b[2K\u001b[17A\u001b[2K\u001b[13A\u001b[2K\u001b[17A\u001b[2K\u001b[13A\u001b[2K\u001b[17A\u001b[2K\u001b[17A\u001b[2K\u001b[13A\u001b[2K\u001b[17A\u001b[2K\u001b[17A\u001b[2K\u001b[13A\u001b[2K\u001b[17A\u001b[2K\u001b[13A\u001b[2K\u001b[17A\u001b[2K\u001b[13A\u001b[2K\u001b[17A\u001b[2K\u001b[17A\u001b[2K\u001b[13A\u001b[2K\u001b[17A\u001b[2K\u001b[17A\u001b[2K\u001b[13A\u001b[2K\u001b[17A\u001b[2K\u001b[13A\u001b[2K\u001b[17A\u001b[2K\u001b[13A\u001b[2K\u001b[17A\u001b[2K\u001b[13A\u001b[2K\u001b[13A\u001b[2K\u001b[17A\u001b[2K\u001b[13A\u001b[2K\u001b[17A\u001b[2K\u001b[13A\u001b[2K\u001b[22A\u001b[2K\u001b[13A\u001b[2K\u001b[17A\u001b[2K\u001b[13A\u001b[2K\u001b[17A\u001b[2K\u001b[17A\u001b[2K\u001b[17A\u001b[2K\u001b[13A\u001b[2K\u001b[13A\u001b[2K\u001b[17A\u001b[2K\u001b[17A\u001b[2K\u001b[13A\u001b[2K\u001b[17A\u001b[2K\u001b[13A\u001b[2K\u001b[17A\u001b[2K\u001b[13A\u001b[2K\u001b[17A\u001b[2K\u001b[13A\u001b[2K\u001b[17A\u001b[2K\u001b[13A\u001b[2K\u001b[17A\u001b[2K\u001b[13A\u001b[2K\u001b[17A\u001b[2K\u001b[13A\u001b[2K\u001b[17A\u001b[2KDownloading  546.6MB/1.806GB\u001b[17A\u001b[2K\u001b[13A\u001b[2K\u001b[17A\u001b[2K\u001b[13A\u001b[2K\u001b[17A\u001b[2K\u001b[13A\u001b[2K\u001b[13A\u001b[2K\u001b[17A\u001b[2K\u001b[17A\u001b[2K\u001b[13A\u001b[2K\u001b[17A\u001b[2K\u001b[13A\u001b[2K\u001b[17A\u001b[2K\u001b[13A\u001b[2K\u001b[17A\u001b[2K\u001b[17A\u001b[2K\u001b[13A\u001b[2K\u001b[17A\u001b[2K\u001b[13A\u001b[2K\u001b[17A\u001b[2K\u001b[13A\u001b[2K\u001b[17A\u001b[2K\u001b[13A\u001b[2K\u001b[17A\u001b[2K\u001b[17A\u001b[2K\u001b[17A\u001b[2K\u001b[17A\u001b[2K\u001b[13A\u001b[2K\u001b[17A\u001b[2K\u001b[13A\u001b[2K\u001b[17A\u001b[2K\u001b[13A\u001b[2K\u001b[13A\u001b[2K\u001b[17A\u001b[2K\u001b[17A\u001b[2K\u001b[17A\u001b[2K\u001b[13A\u001b[2K\u001b[17A\u001b[2K\u001b[17A\u001b[2K\u001b[13A\u001b[2K\u001b[17A\u001b[2K\u001b[13A\u001b[2K\u001b[17A\u001b[2K\u001b[13A\u001b[2K\u001b[17A\u001b[2K\u001b[17A\u001b[2K\u001b[17A\u001b[2K\u001b[13A\u001b[2K\u001b[17A\u001b[2K\u001b[13A\u001b[2K\u001b[17A\u001b[2K\u001b[13A\u001b[2K\u001b[17A\u001b[2K\u001b[13A\u001b[2K\u001b[17A\u001b[2K\u001b[13A\u001b[2K\u001b[13A\u001b[2K\u001b[13A\u001b[2K\u001b[13A\u001b[2K\u001b[17A\u001b[2K\u001b[13A\u001b[2K\u001b[17A\u001b[2K\u001b[13A\u001b[2K\u001b[17A\u001b[2K\u001b[13A\u001b[2K\u001b[17A\u001b[2K\u001b[13A\u001b[2K\u001b[17A\u001b[2K\u001b[13A\u001b[2K\u001b[17A\u001b[2K\u001b[13A\u001b[2K\u001b[17A\u001b[2K\u001b[13A\u001b[2K\u001b[17A\u001b[2K\u001b[13A\u001b[2K\u001b[17A\u001b[2K\u001b[17A\u001b[2K\u001b[13A\u001b[2K\u001b[17A\u001b[2K\u001b[13A\u001b[2K\u001b[17A\u001b[2K\u001b[13A\u001b[2K\u001b[17A\u001b[2K\u001b[17A\u001b[2K\u001b[13A\u001b[2K\u001b[17A\u001b[2K\u001b[13A\u001b[2K\u001b[17A\u001b[2K\u001b[13A\u001b[2K\u001b[17A\u001b[2K\u001b[17A\u001b[2K\u001b[13A\u001b[2K\u001b[17A\u001b[2K\u001b[17A\u001b[2K\u001b[13A\u001b[2K\u001b[17A\u001b[2K\u001b[17A\u001b[2K\u001b[17A\u001b[2K\u001b[17A\u001b[2K\u001b[13A\u001b[2K\u001b[17A\u001b[2K\u001b[13A\u001b[2K\u001b[17A\u001b[2K\u001b[13A\u001b[2K\u001b[13A\u001b[2K\u001b[17A\u001b[2K\u001b[17A\u001b[2K\u001b[13A\u001b[2K\u001b[17A\u001b[2K\u001b[13A\u001b[2K\u001b[17A\u001b[2K\u001b[13A\u001b[2K\u001b[17A\u001b[2K\u001b[13A\u001b[2K\u001b[17A\u001b[2K\u001b[13A\u001b[2K\u001b[13A\u001b[2K\u001b[17A\u001b[2K\u001b[17A\u001b[2K\u001b[17A\u001b[2K\u001b[13A\u001b[2K\u001b[17A\u001b[2K\u001b[13A\u001b[2K\u001b[17A\u001b[2K\u001b[17A\u001b[2K\u001b[17A\u001b[2K\u001b[13A\u001b[2K\u001b[17A\u001b[2K\u001b[17A\u001b[2K\u001b[17A\u001b[2K\u001b[13A\u001b[2K\u001b[17A\u001b[2K\u001b[13A\u001b[2K\u001b[17A\u001b[2K\u001b[17A\u001b[2K\u001b[13A\u001b[2K\u001b[17A\u001b[2K\u001b[13A\u001b[2K\u001b[22A\u001b[2K\u001b[13A\u001b[2K\u001b[13A\u001b[2K\u001b[13A\u001b[2K\u001b[17A\u001b[2K\u001b[13A\u001b[2K\u001b[17A\u001b[2K\u001b[13A\u001b[2K\u001b[17A\u001b[2K\u001b[13A\u001b[2K\u001b[17A\u001b[2K\u001b[17A\u001b[2K\u001b[17A\u001b[2K\u001b[13A\u001b[2K\u001b[13A\u001b[2K\u001b[13A\u001b[2K\u001b[13A\u001b[2K\u001b[13A\u001b[2K\u001b[17A\u001b[2K\u001b[13A\u001b[2K\u001b[17A\u001b[2K\u001b[13A\u001b[2K\u001b[17A\u001b[2K\u001b[17A\u001b[2K\u001b[17A\u001b[2K\u001b[13A\u001b[2K\u001b[13A\u001b[2K\u001b[17A\u001b[2K\u001b[13A\u001b[2K\u001b[17A\u001b[2K\u001b[22A\u001b[2K\u001b[13A\u001b[2K\u001b[13A\u001b[2K\u001b[17A\u001b[2K\u001b[13A\u001b[2K\u001b[17A\u001b[2K\u001b[13A\u001b[2K\u001b[17A\u001b[2K\u001b[13A\u001b[2K\u001b[17A\u001b[2K\u001b[13A\u001b[2K\u001b[13A\u001b[2K\u001b[13A\u001b[2K\u001b[13A\u001b[2K\u001b[13A\u001b[2K\u001b[17A\u001b[2K\u001b[13A\u001b[2K\u001b[17A\u001b[2K\u001b[13A\u001b[2K\u001b[17A\u001b[2K\u001b[13A\u001b[2K\u001b[17A\u001b[2K\u001b[13A\u001b[2K\u001b[13A\u001b[2K\u001b[13A\u001b[2K\u001b[13A\u001b[2K\u001b[17A\u001b[2K\u001b[13A\u001b[2K\u001b[17A\u001b[2K\u001b[13A\u001b[2K\u001b[17A\u001b[2K\u001b[13A\u001b[2K\u001b[17A\u001b[2K\u001b[17A\u001b[2K\u001b[13A\u001b[2K\u001b[13A\u001b[2K\u001b[17A\u001b[2K\u001b[13A\u001b[2K\u001b[13A\u001b[2K\u001b[17A\u001b[2K\u001b[13A\u001b[2K\u001b[17A\u001b[2K\u001b[13A\u001b[2K\u001b[17A\u001b[2K\u001b[13A\u001b[2K\u001b[17A\u001b[2K\u001b[17A\u001b[2K\u001b[13A\u001b[2K\u001b[13A\u001b[2K\u001b[17A\u001b[2K\u001b[13A\u001b[2K\u001b[17A\u001b[2K\u001b[13A\u001b[2K\u001b[13A\u001b[2K\u001b[17A\u001b[2K\u001b[13A\u001b[2K\u001b[17A\u001b[2K\u001b[13A\u001b[2K\u001b[17A\u001b[2K\u001b[17A\u001b[2K\u001b[13A\u001b[2K\u001b[13A\u001b[2K\u001b[17A\u001b[2K\u001b[13A\u001b[2K\u001b[17A\u001b[2K\u001b[13A\u001b[2K\u001b[13A\u001b[2K\u001b[17A\u001b[2K\u001b[13A\u001b[2K\u001b[17A\u001b[2K\u001b[13A\u001b[2K\u001b[22A\u001b[2K\u001b[17A\u001b[2K\u001b[13A\u001b[2K\u001b[13A\u001b[2K\u001b[13A\u001b[2K\u001b[13A\u001b[2K\u001b[17A\u001b[2K\u001b[13A\u001b[2K\u001b[17A\u001b[2K\u001b[13A\u001b[2K\u001b[17A\u001b[2K\u001b[13A\u001b[2K\u001b[17A\u001b[2K\u001b[17A\u001b[2K\u001b[13A\u001b[2K\u001b[13A\u001b[2K\u001b[17A\u001b[2K\u001b[13A\u001b[2K\u001b[17A\u001b[2K\u001b[13A\u001b[2K\u001b[13A\u001b[2K\u001b[17A\u001b[2K\u001b[13A\u001b[2K\u001b[17A\u001b[2K\u001b[13A\u001b[2K\u001b[22A\u001b[2K\u001b[17A\u001b[2K\u001b[17A\u001b[2K\u001b[13A\u001b[2K\u001b[17A\u001b[2K\u001b[13A\u001b[2K\u001b[17A\u001b[2K\u001b[13A\u001b[2K\u001b[17A\u001b[2K\u001b[13A\u001b[2K\u001b[17A\u001b[2K\u001b[13A\u001b[2K\u001b[17A\u001b[2K\u001b[13A\u001b[2K\u001b[17A\u001b[2K\u001b[13A\u001b[2K\u001b[17A\u001b[2K\u001b[13A\u001b[2K\u001b[13A\u001b[2K\u001b[13A\u001b[2K\u001b[17A\u001b[2K\u001b[13A\u001b[2K\u001b[17A\u001b[2K\u001b[22A\u001b[2K\u001b[17A\u001b[2K\u001b[17A\u001b[2K\u001b[13A\u001b[2K\u001b[17A\u001b[2K\u001b[13A\u001b[2K\u001b[13A\u001b[2K\u001b[13A\u001b[2K\u001b[13A\u001b[2K\u001b[13A\u001b[2K\u001b[17A\u001b[2K\u001b[13A\u001b[2K\u001b[17A\u001b[2K\u001b[13A\u001b[2K\u001b[17A\u001b[2K\u001b[13A\u001b[2K\u001b[17A\u001b[2K\u001b[13A\u001b[2K\u001b[13A\u001b[2K\u001b[17A\u001b[2K\u001b[13A\u001b[2K\u001b[17A\u001b[2K\u001b[13A\u001b[2K\u001b[17A\u001b[2K\u001b[13A\u001b[2K\u001b[17A\u001b[2K\u001b[13A\u001b[2K\u001b[13A\u001b[2K\u001b[17A\u001b[2K\u001b[13A\u001b[2K\u001b[17A\u001b[2K\u001b[13A\u001b[2K\u001b[17A\u001b[2K\u001b[17A\u001b[2K\u001b[13A\u001b[2K\u001b[17A\u001b[2K\u001b[13A\u001b[2K\u001b[22A\u001b[2K\u001b[13A\u001b[2K\u001b[17A\u001b[2K\u001b[13A\u001b[2K\u001b[17A\u001b[2K\u001b[13A\u001b[2K\u001b[17A\u001b[2K\u001b[13A\u001b[2K\u001b[13A\u001b[2K\u001b[13A\u001b[2K\u001b[17A\u001b[2K\u001b[13A\u001b[2K\u001b[17A\u001b[2K\u001b[13A\u001b[2K\u001b[17A\u001b[2K\u001b[13A\u001b[2K\u001b[13A\u001b[2K\u001b[17A\u001b[2K\u001b[13A\u001b[2K\u001b[17A\u001b[2K\u001b[13A\u001b[2K\u001b[17A\u001b[2K\u001b[13A\u001b[2K\u001b[13A\u001b[2K\u001b[13A\u001b[2K\u001b[17A\u001b[2K\u001b[13A\u001b[2K\u001b[17A\u001b[2K\u001b[17A\u001b[2K\u001b[13A\u001b[2K\u001b[17A\u001b[2K\u001b[13A\u001b[2K\u001b[17A\u001b[2K\u001b[13A\u001b[2K\u001b[17A\u001b[2K\u001b[17A\u001b[2K\u001b[13A\u001b[2K\u001b[17A\u001b[2K\u001b[13A\u001b[2K\u001b[17A\u001b[2K\u001b[17A\u001b[2K\u001b[13A\u001b[2K\u001b[13A\u001b[2K\u001b[17A\u001b[2K\u001b[13A\u001b[2K\u001b[17A\u001b[2K\u001b[13A\u001b[2K\u001b[17A\u001b[2K\u001b[13A\u001b[2K\u001b[13A\u001b[2K\u001b[17A\u001b[2K\u001b[13A\u001b[2K\u001b[17A\u001b[2K\u001b[13A\u001b[2K\u001b[17A\u001b[2K\u001b[13A\u001b[2K\u001b[13A\u001b[2K\u001b[17A\u001b[2K\u001b[13A\u001b[2K\u001b[17A\u001b[2K\u001b[13A\u001b[2K\u001b[17A\u001b[2K\u001b[13A\u001b[2K\u001b[13A\u001b[2K\u001b[17A\u001b[2K\u001b[13A\u001b[2K\u001b[17A\u001b[2K\u001b[13A\u001b[2K\u001b[17A\u001b[2K\u001b[22A\u001b[2K\u001b[13A\u001b[2K\u001b[17A\u001b[2K\u001b[13A\u001b[2K\u001b[17A\u001b[2K\u001b[13A\u001b[2K\u001b[17A\u001b[2K\u001b[13A\u001b[2K\u001b[17A\u001b[2K\u001b[13A\u001b[2K\u001b[13A\u001b[2K\u001b[17A\u001b[2K\u001b[13A\u001b[2K\u001b[17A\u001b[2K\u001b[13A\u001b[2K\u001b[17A\u001b[2K\u001b[13A\u001b[2K\u001b[17A\u001b[2K\u001b[13A\u001b[2K\u001b[17A\u001b[2K\u001b[13A\u001b[2K\u001b[17A\u001b[2K\u001b[13A\u001b[2K\u001b[17A\u001b[2K\u001b[13A\u001b[2K\u001b[13A\u001b[2K\u001b[17A\u001b[2K\u001b[13A\u001b[2K\u001b[17A\u001b[2K\u001b[13A\u001b[2K\u001b[17A\u001b[2K\u001b[13A\u001b[2K\u001b[17A\u001b[2K\u001b[13A\u001b[2K\u001b[17A\u001b[2K\u001b[13A\u001b[2K\u001b[17A\u001b[2K\u001b[13A\u001b[2K\u001b[13A\u001b[2K\u001b[22A\u001b[2K\u001b[17A\u001b[2K\u001b[13A\u001b[2K\u001b[17A\u001b[2K\u001b[13A\u001b[2K\u001b[13A\u001b[2K\u001b[13A\u001b[2K\u001b[13A\u001b[2K\u001b[13A\u001b[2K\u001b[13A\u001b[2K\u001b[17A\u001b[2K\u001b[13A\u001b[2K\u001b[17A\u001b[2K\u001b[13A\u001b[2K\u001b[17A\u001b[2K\u001b[13A\u001b[2K\u001b[17A\u001b[2K\u001b[13A\u001b[2K\u001b[17A\u001b[2K\u001b[17A\u001b[2K\u001b[13A\u001b[2K\u001b[17A\u001b[2K\u001b[13A\u001b[2K\u001b[13A\u001b[2K\u001b[17A\u001b[2K\u001b[13A\u001b[2K\u001b[17A\u001b[2K\u001b[13A\u001b[2K\u001b[13A\u001b[2K\u001b[13A\u001b[2K\u001b[17A\u001b[2K\u001b[13A\u001b[2K\u001b[17A\u001b[2K\u001b[13A\u001b[2K\u001b[17A\u001b[2K\u001b[22A\u001b[2K\u001b[13A\u001b[2K\u001b[17A\u001b[2K\u001b[13A\u001b[2K\u001b[17A\u001b[2K\u001b[13A\u001b[2K\u001b[13A\u001b[2K\u001b[17A\u001b[2K\u001b[13A\u001b[2K\u001b[17A\u001b[2K\u001b[13A\u001b[2K\u001b[17A\u001b[2K\u001b[13A\u001b[2K\u001b[17A\u001b[2K\u001b[13A\u001b[2K\u001b[17A\u001b[2K\u001b[17A\u001b[2K\u001b[17A\u001b[2K\u001b[17A\u001b[2K\u001b[13A\u001b[2K\u001b[17A\u001b[2K\u001b[13A\u001b[2K\u001b[17A\u001b[2K\u001b[13A\u001b[2K\u001b[17A\u001b[2K\u001b[22A\u001b[2K\u001b[13A\u001b[2K\u001b[13A\u001b[2K\u001b[17A\u001b[2K\u001b[17A\u001b[2K\u001b[13A\u001b[2K\u001b[17A\u001b[2K\u001b[17A\u001b[2K\u001b[13A\u001b[2K\u001b[17A\u001b[2K\u001b[13A\u001b[2K\u001b[17A\u001b[2K\u001b[13A\u001b[2K\u001b[17A\u001b[2K\u001b[13A\u001b[2K\u001b[17A\u001b[2K\u001b[13A\u001b[2K\u001b[17A\u001b[2K\u001b[17A\u001b[2K\u001b[13A\u001b[2K\u001b[17A\u001b[2K\u001b[17A\u001b[2K\u001b[17A\u001b[2K\u001b[17A\u001b[2K\u001b[17A\u001b[2K\u001b[13A\u001b[2K\u001b[17A\u001b[2K\u001b[13A\u001b[2K\u001b[13A\u001b[2K\u001b[13A\u001b[2K\u001b[13A\u001b[2K\u001b[13A\u001b[2K\u001b[22A\u001b[2K\u001b[13A\u001b[2K\u001b[13A\u001b[2K\u001b[12A\u001b[2K\u001b[13A\u001b[2K\u001b[12A\u001b[2K\u001b[13A\u001b[2K\u001b[13A\u001b[2K\u001b[13A\u001b[2K\u001b[13A\u001b[2K\u001b[13A\u001b[2K\u001b[13A\u001b[2K\u001b[13A\u001b[2K\u001b[11A\u001b[2K\u001b[13A\u001b[2K\u001b[11A\u001b[2K\u001b[13A\u001b[2K\u001b[11A\u001b[2K\u001b[11A\u001b[2K\u001b[13A\u001b[2K\u001b[11A\u001b[2K\u001b[13A\u001b[2K\u001b[11A\u001b[2K\u001b[13A\u001b[2K\u001b[11A\u001b[2K\u001b[13A\u001b[2K\u001b[11A\u001b[2K\u001b[13A\u001b[2K\u001b[11A\u001b[2K\u001b[13A\u001b[2K\u001b[11A\u001b[2K\u001b[13A\u001b[2K\u001b[11A\u001b[2K\u001b[13A\u001b[2K\u001b[13A\u001b[2K\u001b[22A\u001b[2K\u001b[13A\u001b[2K\u001b[13A\u001b[2K\u001b[13A\u001b[2K\u001b[13A\u001b[2K\u001b[13A\u001b[2K\u001b[10A\u001b[2K\u001b[13A\u001b[2K\u001b[13A\u001b[2K\u001b[10A\u001b[2K\u001b[13A\u001b[2K\u001b[10A\u001b[2K\u001b[13A\u001b[2K\u001b[10A\u001b[2K\u001b[13A\u001b[2K\u001b[13A\u001b[2K\u001b[10A\u001b[2K\u001b[13A\u001b[2K\u001b[13A\u001b[2K\u001b[10A\u001b[2K\u001b[13A\u001b[2K\u001b[10A\u001b[2K\u001b[13A\u001b[2K\u001b[13A\u001b[2K\u001b[13A\u001b[2K\u001b[10A\u001b[2K\u001b[13A\u001b[2K\u001b[10A\u001b[2K\u001b[13A\u001b[2K\u001b[10A\u001b[2K\u001b[13A\u001b[2K\u001b[10A\u001b[2K\u001b[13A\u001b[2K\u001b[10A\u001b[2K\u001b[13A\u001b[2K\u001b[13A\u001b[2K\u001b[10A\u001b[2K\u001b[13A\u001b[2K\u001b[10A\u001b[2K\u001b[13A\u001b[2K\u001b[10A\u001b[2K\u001b[13A\u001b[2K\u001b[10A\u001b[2K\u001b[13A\u001b[2K\u001b[10A\u001b[2K\u001b[13A\u001b[2K\u001b[10A\u001b[2K\u001b[13A\u001b[2K\u001b[10A\u001b[2K\u001b[13A\u001b[2K\u001b[10A\u001b[2K\u001b[10A\u001b[2K\u001b[10A\u001b[2K\u001b[13A\u001b[2K\u001b[10A\u001b[2K\u001b[10A\u001b[2K\u001b[10A\u001b[2K\u001b[13A\u001b[2K\u001b[10A\u001b[2K\u001b[13A\u001b[2K\u001b[10A\u001b[2K\u001b[22A\u001b[2K\u001b[13A\u001b[2K\u001b[10A\u001b[2K\u001b[13A\u001b[2K\u001b[10A\u001b[2K\u001b[13A\u001b[2K\u001b[10A\u001b[2K\u001b[10A\u001b[2K\u001b[13A\u001b[2K\u001b[10A\u001b[2K\u001b[13A\u001b[2K\u001b[10A\u001b[2KDownloading  51.35MB/334.8MB\u001b[10A\u001b[2K\u001b[13A\u001b[2K\u001b[10A\u001b[2K\u001b[10A\u001b[2K\u001b[10A\u001b[2K\u001b[13A\u001b[2K\u001b[10A\u001b[2K\u001b[10A\u001b[2K\u001b[10A\u001b[2K\u001b[13A\u001b[2K\u001b[10A\u001b[2K\u001b[10A\u001b[2K\u001b[13A\u001b[2K\u001b[10A\u001b[2K\u001b[13A\u001b[2K\u001b[10A\u001b[2K\u001b[10A\u001b[2K\u001b[10A\u001b[2K\u001b[22A\u001b[2K\u001b[13A\u001b[2K\u001b[10A\u001b[2K\u001b[10A\u001b[2K\u001b[13A\u001b[2K\u001b[10A\u001b[2K\u001b[13A\u001b[2K\u001b[10A\u001b[2K\u001b[13A\u001b[2K\u001b[10A\u001b[2K\u001b[10A\u001b[2K\u001b[13A\u001b[2K\u001b[13A\u001b[2K\u001b[10A\u001b[2K\u001b[13A\u001b[2K\u001b[10A\u001b[2K\u001b[10A\u001b[2K\u001b[10A\u001b[2K\u001b[10A\u001b[2K\u001b[13A\u001b[2K\u001b[10A\u001b[2K\u001b[10A\u001b[2K\u001b[22A\u001b[2K\u001b[10A\u001b[2K\u001b[13A\u001b[2K\u001b[10A\u001b[2K\u001b[13A\u001b[2K\u001b[10A\u001b[2K\u001b[13A\u001b[2K\u001b[10A\u001b[2K\u001b[10A\u001b[2K\u001b[13A\u001b[2K\u001b[10A\u001b[2K\u001b[13A\u001b[2K\u001b[10A\u001b[2K\u001b[13A\u001b[2K\u001b[10A\u001b[2K\u001b[13A\u001b[2K\u001b[10A\u001b[2K\u001b[13A\u001b[2K\u001b[10A\u001b[2K\u001b[13A\u001b[2K\u001b[22A\u001b[2K\u001b[13A\u001b[2K\u001b[10A\u001b[2K\u001b[13A\u001b[2K\u001b[10A\u001b[2K\u001b[13A\u001b[2K\u001b[10A\u001b[2K\u001b[13A\u001b[2K\u001b[10A\u001b[2K\u001b[13A\u001b[2K\u001b[10A\u001b[2K\u001b[10A\u001b[2K\u001b[13A\u001b[2K\u001b[10A\u001b[2K\u001b[13A\u001b[2K\u001b[10A\u001b[2K\u001b[13A\u001b[2K\u001b[10A\u001b[2K\u001b[10A\u001b[2K\u001b[13A\u001b[2K\u001b[10A\u001b[2K\u001b[13A\u001b[2K\u001b[10A\u001b[2K\u001b[13A\u001b[2K\u001b[10A\u001b[2K\u001b[13A\u001b[2K\u001b[10A\u001b[2K\u001b[10A\u001b[2K\u001b[10A\u001b[2K\u001b[13A\u001b[2K\u001b[10A\u001b[2K\u001b[10A\u001b[2K\u001b[10A\u001b[2K\u001b[13A\u001b[2K\u001b[10A\u001b[2K\u001b[13A\u001b[2K\u001b[10A\u001b[2K\u001b[13A\u001b[2K\u001b[10A\u001b[2K\u001b[13A\u001b[2K\u001b[10A\u001b[2K\u001b[13A\u001b[2K\u001b[10A\u001b[2K\u001b[13A\u001b[2K\u001b[10A\u001b[2K\u001b[13A\u001b[2K\u001b[10A\u001b[2K\u001b[13A\u001b[2K\u001b[10A\u001b[2K\u001b[13A\u001b[2K\u001b[10A\u001b[2K\u001b[10A\u001b[2K\u001b[13A\u001b[2K\u001b[10A\u001b[2K\u001b[22A\u001b[2K\u001b[10A\u001b[2K\u001b[10A\u001b[2K\u001b[13A\u001b[2K\u001b[10A\u001b[2K\u001b[10A\u001b[2K\u001b[10A\u001b[2K\u001b[13A\u001b[2K\u001b[10A\u001b[2K\u001b[13A\u001b[2K\u001b[10A\u001b[2K\u001b[13A\u001b[2K\u001b[10A\u001b[2K\u001b[13A\u001b[2K\u001b[10A\u001b[2K\u001b[13A\u001b[2K\u001b[10A\u001b[2K\u001b[10A\u001b[2K\u001b[10A\u001b[2K\u001b[13A\u001b[2K\u001b[10A\u001b[2K\u001b[13A\u001b[2K\u001b[10A\u001b[2K\u001b[13A\u001b[2K\u001b[10A\u001b[2K\u001b[13A\u001b[2K\u001b[10A\u001b[2K\u001b[10A\u001b[2K\u001b[10A\u001b[2K\u001b[22A\u001b[2K\u001b[10A\u001b[2K\u001b[13A\u001b[2K\u001b[10A\u001b[2K\u001b[10A\u001b[2K\u001b[10A\u001b[2K\u001b[13A\u001b[2K\u001b[10A\u001b[2K\u001b[10A\u001b[2K\u001b[13A\u001b[2K\u001b[10A\u001b[2K\u001b[13A\u001b[2K\u001b[10A\u001b[2K\u001b[10A\u001b[2K\u001b[13A\u001b[2K\u001b[10A\u001b[2K\u001b[13A\u001b[2K\u001b[10A\u001b[2K\u001b[13A\u001b[2K\u001b[10A\u001b[2K\u001b[10A\u001b[2K\u001b[13A\u001b[2K\u001b[10A\u001b[2K\u001b[10A\u001b[2K\u001b[10A\u001b[2K\u001b[13A\u001b[2K\u001b[10A\u001b[2K\u001b[13A\u001b[2K\u001b[10A\u001b[2K\u001b[10A\u001b[2K\u001b[13A\u001b[2K\u001b[10A\u001b[2K\u001b[13A\u001b[2K\u001b[10A\u001b[2K\u001b[10A\u001b[2K\u001b[10A\u001b[2K\u001b[13A\u001b[2K\u001b[10A\u001b[2K\u001b[10A\u001b[2K\u001b[10A\u001b[2K\u001b[13A\u001b[2K\u001b[10A\u001b[2K\u001b[13A\u001b[2K\u001b[10A\u001b[2K\u001b[13A\u001b[2K\u001b[10A\u001b[2K\u001b[13A\u001b[2K\u001b[10A\u001b[2K\u001b[10A\u001b[2K\u001b[10A\u001b[2K\u001b[13A\u001b[2K\u001b[10A\u001b[2K\u001b[13A\u001b[2K\u001b[10A\u001b[2K\u001b[13A\u001b[2K\u001b[10A\u001b[2K\u001b[13A\u001b[2K\u001b[10A\u001b[2K\u001b[13A\u001b[2K\u001b[10A\u001b[2K\u001b[13A\u001b[2K\u001b[10A\u001b[2K\u001b[13A\u001b[2K\u001b[10A\u001b[2K\u001b[13A\u001b[2K\u001b[10A\u001b[2K\u001b[13A\u001b[2K\u001b[10A\u001b[2K\u001b[13A\u001b[2K\u001b[10A\u001b[2K\u001b[13A\u001b[2K\u001b[13A\u001b[2K\u001b[13A\u001b[2K\u001b[13A\u001b[2K\u001b[13A\u001b[2K\u001b[9A\u001b[2K\u001b[13A\u001b[2K\u001b[13A\u001b[2K\u001b[13A\u001b[2K\u001b[13A\u001b[2K\u001b[13A\u001b[2K\u001b[13A\u001b[2K\u001b[13A\u001b[2K\u001b[13A\u001b[2K\u001b[13A\u001b[2K\u001b[22A\u001b[2K\u001b[13A\u001b[2K\u001b[13A\u001b[2K\u001b[13A\u001b[2K\u001b[13A\u001b[2K\u001b[13A\u001b[2K\u001b[13A\u001b[2K\u001b[13A\u001b[2K\u001b[7A\u001b[2K\u001b[13A\u001b[2K\u001b[7A\u001b[2K\u001b[13A\u001b[2K\u001b[7A\u001b[2K\u001b[13A\u001b[2K\u001b[7A\u001b[2K\u001b[13A\u001b[2K\u001b[7A\u001b[2K\u001b[13A\u001b[2K\u001b[7A\u001b[2K\u001b[13A\u001b[2K\u001b[7A\u001b[2K\u001b[13A\u001b[2K\u001b[7A\u001b[2K\u001b[7A\u001b[2K\u001b[13A\u001b[2K\u001b[13A\u001b[2K\u001b[13A\u001b[2K\u001b[7A\u001b[2K\u001b[13A\u001b[2K\u001b[7A\u001b[2K\u001b[7A\u001b[2K\u001b[7A\u001b[2K\u001b[13A\u001b[2K\u001b[7A\u001b[2K\u001b[13A\u001b[2K\u001b[7A\u001b[2K\u001b[13A\u001b[2K\u001b[7A\u001b[2K\u001b[13A\u001b[2K\u001b[22A\u001b[2K\u001b[7A\u001b[2K\u001b[13A\u001b[2K\u001b[7A\u001b[2K\u001b[13A\u001b[2K\u001b[7A\u001b[2K\u001b[13A\u001b[2K\u001b[7A\u001b[2K\u001b[13A\u001b[2K\u001b[13A\u001b[2K\u001b[7A\u001b[2K\u001b[13A\u001b[2K\u001b[7A\u001b[2K\u001b[13A\u001b[2K\u001b[13A\u001b[2K\u001b[7A\u001b[2K\u001b[13A\u001b[2K\u001b[7A\u001b[2K\u001b[13A\u001b[2K\u001b[7A\u001b[2K\u001b[13A\u001b[2K\u001b[7A\u001b[2K\u001b[13A\u001b[2K\u001b[13A\u001b[2K\u001b[7A\u001b[2K\u001b[13A\u001b[2K\u001b[7A\u001b[2K\u001b[7A\u001b[2K\u001b[7A\u001b[2K\u001b[13A\u001b[2K\u001b[7A\u001b[2K\u001b[13A\u001b[2K\u001b[7A\u001b[2K\u001b[13A\u001b[2K\u001b[7A\u001b[2K\u001b[13A\u001b[2K\u001b[7A\u001b[2K\u001b[13A\u001b[2K\u001b[7A\u001b[2K\u001b[13A\u001b[2K\u001b[22A\u001b[2K\u001b[7A\u001b[2K\u001b[13A\u001b[2K\u001b[7A\u001b[2K\u001b[13A\u001b[2K\u001b[13A\u001b[2K\u001b[7A\u001b[2K\u001b[13A\u001b[2K\u001b[7A\u001b[2K\u001b[7A\u001b[2K\u001b[7A\u001b[2K\u001b[13A\u001b[2K\u001b[7A\u001b[2K\u001b[13A\u001b[2K\u001b[7A\u001b[2K\u001b[13A\u001b[2K\u001b[7A\u001b[2K\u001b[13A\u001b[2K\u001b[7A\u001b[2K\u001b[7A\u001b[2K\u001b[13A\u001b[2K\u001b[7A\u001b[2K\u001b[13A\u001b[2K\u001b[7A\u001b[2K\u001b[7A\u001b[2K\u001b[7A\u001b[2K\u001b[13A\u001b[2K\u001b[7A\u001b[2K\u001b[22A\u001b[2K\u001b[7A\u001b[2K\u001b[7A\u001b[2K\u001b[13A\u001b[2K\u001b[7A\u001b[2K\u001b[7A\u001b[2K\u001b[7A\u001b[2K\u001b[13A\u001b[2K\u001b[7A\u001b[2K\u001b[13A\u001b[2K\u001b[7A\u001b[2K\u001b[13A\u001b[2K\u001b[7A\u001b[2K\u001b[13A\u001b[2K\u001b[7A\u001b[2K\u001b[7A\u001b[2K\u001b[13A\u001b[2K\u001b[13A\u001b[2K\u001b[7A\u001b[2K\u001b[13A\u001b[2K\u001b[7A\u001b[2K\u001b[13A\u001b[2K\u001b[7A\u001b[2K\u001b[13A\u001b[2K\u001b[7A\u001b[2K\u001b[7A\u001b[2K\u001b[7A\u001b[2K\u001b[7A\u001b[2K\u001b[13A\u001b[2K\u001b[7A\u001b[2K\u001b[13A\u001b[2K\u001b[7A\u001b[2K\u001b[7A\u001b[2K\u001b[13A\u001b[2K\u001b[7A\u001b[2K\u001b[7A\u001b[2K\u001b[13A\u001b[2K\u001b[7A\u001b[2K\u001b[7A\u001b[2K\u001b[13A\u001b[2K\u001b[7A\u001b[2K\u001b[13A\u001b[2K\u001b[7A\u001b[2K\u001b[13A\u001b[2K\u001b[7A\u001b[2K\u001b[13A\u001b[2K\u001b[7A\u001b[2K\u001b[13A\u001b[2K\u001b[7A\u001b[2K\u001b[7A\u001b[2K\u001b[7A\u001b[2K\u001b[13A\u001b[2K\u001b[7A\u001b[2K\u001b[13A\u001b[2K\u001b[7A\u001b[2K\u001b[7A\u001b[2K\u001b[13A\u001b[2K\u001b[7A\u001b[2K\u001b[13A\u001b[2K\u001b[13A\u001b[2K\u001b[7A\u001b[2K\u001b[7A\u001b[2K\u001b[13A\u001b[2K\u001b[7A\u001b[2K\u001b[13A\u001b[2K\u001b[7A\u001b[2K\u001b[7A\u001b[2K\u001b[13A\u001b[2K\u001b[7A\u001b[2K\u001b[13A\u001b[2K\u001b[7A\u001b[2K\u001b[7A\u001b[2K\u001b[13A\u001b[2K\u001b[7A\u001b[2K\u001b[13A\u001b[2K\u001b[7A\u001b[2K\u001b[13A\u001b[2K\u001b[7A\u001b[2K\u001b[13A\u001b[2K\u001b[7A\u001b[2K\u001b[13A\u001b[2K\u001b[7A\u001b[2K\u001b[7A\u001b[2K\u001b[13A\u001b[2K\u001b[7A\u001b[2K\u001b[7A\u001b[2K\u001b[7A\u001b[2K\u001b[13A\u001b[2K\u001b[22A\u001b[2K\u001b[13A\u001b[2K\u001b[7A\u001b[2K\u001b[7A\u001b[2K\u001b[13A\u001b[2K\u001b[7A\u001b[2K\u001b[13A\u001b[2K\u001b[7A\u001b[2K\u001b[13A\u001b[2K\u001b[7A\u001b[2K\u001b[13A\u001b[2K\u001b[7A\u001b[2K\u001b[7A\u001b[2K\u001b[13A\u001b[2K\u001b[7A\u001b[2K\u001b[7A\u001b[2K\u001b[7A\u001b[2K\u001b[13A\u001b[2K\u001b[7A\u001b[2K\u001b[7A\u001b[2K\u001b[7A\u001b[2K\u001b[13A\u001b[2K\u001b[7A\u001b[2K\u001b[13A\u001b[2K\u001b[7A\u001b[2K\u001b[13A\u001b[2K\u001b[7A\u001b[2K\u001b[13A\u001b[2K\u001b[7A\u001b[2K\u001b[22A\u001b[2K\u001b[13A\u001b[2K\u001b[7A\u001b[2K\u001b[13A\u001b[2K\u001b[7A\u001b[2K\u001b[7A\u001b[2K\u001b[13A\u001b[2K\u001b[7A\u001b[2K\u001b[7A\u001b[2K\u001b[13A\u001b[2K\u001b[7A\u001b[2K\u001b[13A\u001b[2K\u001b[7A\u001b[2K\u001b[7A\u001b[2K\u001b[7A\u001b[2K\u001b[13A\u001b[2K\u001b[7A\u001b[2K\u001b[7A\u001b[2K\u001b[7A\u001b[2K\u001b[13A\u001b[2K\u001b[7A\u001b[2K\u001b[13A\u001b[2K\u001b[7A\u001b[2K\u001b[13A\u001b[2K\u001b[7A\u001b[2K\u001b[7A\u001b[2K\u001b[13A\u001b[2K\u001b[7A\u001b[2K\u001b[7A\u001b[2K\u001b[7A\u001b[2K\u001b[13A\u001b[2K\u001b[7A\u001b[2K\u001b[13A\u001b[2K\u001b[7A\u001b[2K\u001b[7A\u001b[2K\u001b[13A\u001b[2K\u001b[7A\u001b[2K\u001b[13A\u001b[2K\u001b[7A\u001b[2K\u001b[13A\u001b[2K\u001b[7A\u001b[2K\u001b[7A\u001b[2K\u001b[7A\u001b[2K\u001b[13A\u001b[2K\u001b[7A\u001b[2K\u001b[7A\u001b[2K\u001b[7A\u001b[2K\u001b[13A\u001b[2K\u001b[7A\u001b[2K\u001b[7A\u001b[2K\u001b[7A\u001b[2K\u001b[22A\u001b[2K\u001b[13A\u001b[2K\u001b[7A\u001b[2K\u001b[7A\u001b[2K\u001b[13A\u001b[2K\u001b[7A\u001b[2K\u001b[13A\u001b[2K\u001b[7A\u001b[2K\u001b[13A\u001b[2K\u001b[7A\u001b[2K\u001b[7A\u001b[2K\u001b[13A\u001b[2K\u001b[7A\u001b[2K\u001b[13A\u001b[2K\u001b[7A\u001b[2K\u001b[7A\u001b[2K\u001b[13A\u001b[2K\u001b[7A\u001b[2K\u001b[7A\u001b[2K\u001b[7A\u001b[2K\u001b[7A\u001b[2K\u001b[13A\u001b[2K\u001b[7A\u001b[2K\u001b[7A\u001b[2K\u001b[13A\u001b[2K\u001b[7A\u001b[2K\u001b[13A\u001b[2K\u001b[7A\u001b[2K\u001b[13A\u001b[2K\u001b[7A\u001b[2K\u001b[7A\u001b[2K\u001b[13A\u001b[2K\u001b[22A\u001b[2K\u001b[7A\u001b[2K\u001b[13A\u001b[2K\u001b[7A\u001b[2K\u001b[7A\u001b[2K\u001b[7A\u001b[2K\u001b[7A\u001b[2K\u001b[13A\u001b[2K\u001b[7A\u001b[2K\u001b[7A\u001b[2K\u001b[7A\u001b[2K\u001b[13A\u001b[2K\u001b[7A\u001b[2K\u001b[13A\u001b[2K\u001b[7A\u001b[2K\u001b[7A\u001b[2K\u001b[13A\u001b[2K\u001b[7A\u001b[2K\u001b[13A\u001b[2K\u001b[22A\u001b[2K\u001b[7A\u001b[2K\u001b[7A\u001b[2K\u001b[13A\u001b[2K\u001b[7A\u001b[2K\u001b[13A\u001b[2K\u001b[7A\u001b[2K\u001b[13A\u001b[2K\u001b[7A\u001b[2K\u001b[13A\u001b[2K\u001b[7A\u001b[2K\u001b[7A\u001b[2K\u001b[13A\u001b[2K\u001b[7A\u001b[2K\u001b[7A\u001b[2K\u001b[7A\u001b[2K\u001b[13A\u001b[2K\u001b[7A\u001b[2K\u001b[13A\u001b[2K\u001b[7A\u001b[2K\u001b[7A\u001b[2K\u001b[7A\u001b[2K\u001b[13A\u001b[2K\u001b[7A\u001b[2K\u001b[22A\u001b[2K\u001b[13A\u001b[2K\u001b[7A\u001b[2K\u001b[13A\u001b[2K\u001b[7A\u001b[2K\u001b[13A\u001b[2K\u001b[7A\u001b[2K\u001b[7A\u001b[2K\u001b[7A\u001b[2K\u001b[7A\u001b[2K\u001b[13A\u001b[2K\u001b[7A\u001b[2K\u001b[7A\u001b[2K\u001b[13A\u001b[2K\u001b[7A\u001b[2K\u001b[13A\u001b[2K\u001b[7A\u001b[2K\u001b[13A\u001b[2K\u001b[7A\u001b[2K\u001b[13A\u001b[2K\u001b[7A\u001b[2K\u001b[7A\u001b[2K\u001b[7A\u001b[2K\u001b[7A\u001b[2K\u001b[13A\u001b[2K\u001b[7A\u001b[2K\u001b[13A\u001b[2K\u001b[7A\u001b[2K\u001b[13A\u001b[2K\u001b[13A\u001b[2K\u001b[7A\u001b[2K\u001b[7A\u001b[2K\u001b[13A\u001b[2K\u001b[22A\u001b[2K\u001b[13A\u001b[2K\u001b[7A\u001b[2K\u001b[13A\u001b[2K\u001b[7A\u001b[2K\u001b[7A\u001b[2K\u001b[7A\u001b[2K\u001b[13A\u001b[2K\u001b[7A\u001b[2K\u001b[7A\u001b[2K\u001b[7A\u001b[2K\u001b[13A\u001b[2K\u001b[7A\u001b[2K\u001b[13A\u001b[2K\u001b[7A\u001b[2K\u001b[13A\u001b[2K\u001b[7A\u001b[2K\u001b[13A\u001b[2K\u001b[7A\u001b[2K\u001b[7A\u001b[2K\u001b[13A\u001b[2K\u001b[7A\u001b[2K\u001b[13A\u001b[2K\u001b[7A\u001b[2K\u001b[7A\u001b[2K\u001b[13A\u001b[2K\u001b[7A\u001b[2K\u001b[7A\u001b[2K\u001b[7A\u001b[2K\u001b[13A\u001b[2K\u001b[7A\u001b[2K\u001b[22A\u001b[2K\u001b[13A\u001b[2K\u001b[7A\u001b[2K\u001b[7A\u001b[2K\u001b[7A\u001b[2K\u001b[13A\u001b[2K\u001b[7A\u001b[2K\u001b[7A\u001b[2K\u001b[7A\u001b[2K\u001b[7A\u001b[2K\u001b[7A\u001b[2K\u001b[13A\u001b[2K\u001b[7A\u001b[2K\u001b[13A\u001b[2K\u001b[7A\u001b[2K\u001b[7A\u001b[2K\u001b[13A\u001b[2K\u001b[7A\u001b[2K\u001b[7A\u001b[2K\u001b[7A\u001b[2K\u001b[13A\u001b[2K\u001b[7A\u001b[2K\u001b[13A\u001b[2K\u001b[7A\u001b[2K\u001b[7A\u001b[2K\u001b[13A\u001b[2K\u001b[7A\u001b[2K\u001b[7A\u001b[2K\u001b[7A\u001b[2K\u001b[13A\u001b[2K\u001b[7A\u001b[2K\u001b[13A\u001b[2K\u001b[13A\u001b[2K\u001b[7A\u001b[2K\u001b[7A\u001b[2K\u001b[13A\u001b[2K\u001b[7A\u001b[2K\u001b[13A\u001b[2K\u001b[13A\u001b[2K\u001b[7A\u001b[2K\u001b[13A\u001b[2K\u001b[7A\u001b[2K\u001b[7A\u001b[2K\u001b[13A\u001b[2K\u001b[7A\u001b[2K\u001b[13A\u001b[2K\u001b[7A\u001b[2K\u001b[7A\u001b[2K\u001b[13A\u001b[2K\u001b[13A\u001b[2K\u001b[13A\u001b[2K\u001b[13A\u001b[2K\u001b[7A\u001b[2K\u001b[13A\u001b[2K\u001b[7A\u001b[2K\u001b[13A\u001b[2K\u001b[7A\u001b[2K\u001b[13A\u001b[2K\u001b[7A\u001b[2K\u001b[7A\u001b[2K\u001b[13A\u001b[2K\u001b[7A\u001b[2K\u001b[7A\u001b[2K\u001b[7A\u001b[2K\u001b[7A\u001b[2K\u001b[7A\u001b[2K\u001b[7A\u001b[2K\u001b[7A\u001b[2K\u001b[13A\u001b[2K\u001b[7A\u001b[2K\u001b[13A\u001b[2K\u001b[7A\u001b[2K\u001b[13A\u001b[2K\u001b[7A\u001b[2K\u001b[13A\u001b[2K\u001b[13A\u001b[2K\u001b[13A\u001b[2K\u001b[13A\u001b[2K\u001b[7A\u001b[2K\u001b[13A\u001b[2K\u001b[7A\u001b[2K\u001b[13A\u001b[2K\u001b[7A\u001b[2K\u001b[13A\u001b[2K\u001b[13A\u001b[2K\u001b[7A\u001b[2K\u001b[13A\u001b[2K\u001b[7A\u001b[2K\u001b[13A\u001b[2K\u001b[7A\u001b[2K\u001b[13A\u001b[2K\u001b[7A\u001b[2K\u001b[13A\u001b[2K\u001b[7A\u001b[2K\u001b[13A\u001b[2K\u001b[13A\u001b[2K\u001b[7A\u001b[2K\u001b[13A\u001b[2K\u001b[7A\u001b[2K\u001b[13A\u001b[2K\u001b[7A\u001b[2K\u001b[13A\u001b[2K\u001b[7A\u001b[2K\u001b[13A\u001b[2K\u001b[13A\u001b[2K\u001b[13A\u001b[2K\u001b[13A\u001b[2K\u001b[7A\u001b[2K\u001b[13A\u001b[2K\u001b[7A\u001b[2K\u001b[13A\u001b[2K\u001b[22A\u001b[2K\u001b[7A\u001b[2K\u001b[13A\u001b[2K\u001b[13A\u001b[2K\u001b[7A\u001b[2K\u001b[13A\u001b[2K\u001b[7A\u001b[2K\u001b[13A\u001b[2K\u001b[7A\u001b[2K\u001b[7A\u001b[2K\u001b[13A\u001b[2K\u001b[7A\u001b[2K\u001b[13A\u001b[2K\u001b[7A\u001b[2K\u001b[13A\u001b[2K\u001b[7A\u001b[2K\u001b[7A\u001b[2K\u001b[13A\u001b[2K\u001b[13A\u001b[2K\u001b[7A\u001b[2K\u001b[13A\u001b[2K\u001b[7A\u001b[2K\u001b[13A\u001b[2K\u001b[7A\u001b[2K\u001b[13A\u001b[2K\u001b[7A\u001b[2K\u001b[7A\u001b[2K\u001b[13A\u001b[2K\u001b[13A\u001b[2K\u001b[13A\u001b[2K\u001b[13A\u001b[2K\u001b[7A\u001b[2K\u001b[13A\u001b[2K\u001b[7A\u001b[2K\u001b[13A\u001b[2K\u001b[13A\u001b[2K\u001b[13A\u001b[2K\u001b[13A\u001b[2K\u001b[7A\u001b[2K\u001b[13A\u001b[2K\u001b[7A\u001b[2K\u001b[13A\u001b[2K\u001b[13A\u001b[2K\u001b[13A\u001b[2K\u001b[7A\u001b[2K\u001b[13A\u001b[2K\u001b[7A\u001b[2K\u001b[13A\u001b[2K\u001b[7A\u001b[2K\u001b[13A\u001b[2K\u001b[7A\u001b[2K\u001b[13A\u001b[2K\u001b[7A\u001b[2K\u001b[13A\u001b[2K\u001b[13A\u001b[2K\u001b[13A\u001b[2K\u001b[7A\u001b[2K\u001b[7A\u001b[2K\u001b[13A\u001b[2K\u001b[13A\u001b[2K\u001b[7A\u001b[2K\u001b[13A\u001b[2K\u001b[7A\u001b[2K\u001b[13A\u001b[2K\u001b[7A\u001b[2K\u001b[13A\u001b[2K\u001b[7A\u001b[2K\u001b[13A\u001b[2K\u001b[7A\u001b[2K\u001b[13A\u001b[2K\u001b[13A\u001b[2K\u001b[13A\u001b[2K\u001b[7A\u001b[2K\u001b[7A\u001b[2K\u001b[13A\u001b[2K\u001b[7A\u001b[2K\u001b[13A\u001b[2K\u001b[13A\u001b[2K\u001b[7A\u001b[2K\u001b[7A\u001b[2K\u001b[13A\u001b[2K\u001b[7A\u001b[2K\u001b[13A\u001b[2K\u001b[7A\u001b[2K\u001b[13A\u001b[2K\u001b[7A\u001b[2K\u001b[22A\u001b[2K\u001b[13A\u001b[2K\u001b[7A\u001b[2K\u001b[7A\u001b[2K\u001b[7A\u001b[2K\u001b[13A\u001b[2K\u001b[7A\u001b[2K\u001b[13A\u001b[2K\u001b[13A\u001b[2K\u001b[13A\u001b[2K\u001b[13A\u001b[2K\u001b[7A\u001b[2K\u001b[13A\u001b[2K\u001b[7A\u001b[2K\u001b[13A\u001b[2K\u001b[7A\u001b[2K\u001b[13A\u001b[2K\u001b[7A\u001b[2K\u001b[13A\u001b[2K\u001b[7A\u001b[2K\u001b[22A\u001b[2K\u001b[7A\u001b[2K\u001b[7A\u001b[2K\u001b[13A\u001b[2K\u001b[7A\u001b[2K\u001b[13A\u001b[2K\u001b[7A\u001b[2K\u001b[13A\u001b[2K\u001b[7A\u001b[2K\u001b[7A\u001b[2K\u001b[7A\u001b[2K\u001b[13A\u001b[2K\u001b[7A\u001b[2K\u001b[13A\u001b[2K\u001b[7A\u001b[2K\u001b[7A\u001b[2K\u001b[7A\u001b[2K\u001b[13A\u001b[2K\u001b[7A\u001b[2K\u001b[13A\u001b[2K\u001b[7A\u001b[2K\u001b[13A\u001b[2K\u001b[7A\u001b[2K\u001b[13A\u001b[2K\u001b[7A\u001b[2K\u001b[7A\u001b[2K\u001b[7A\u001b[2K\u001b[7A\u001b[2K\u001b[7A\u001b[2K\u001b[13A\u001b[2K\u001b[7A\u001b[2K\u001b[13A\u001b[2K\u001b[7A\u001b[2K\u001b[13A\u001b[2K\u001b[7A\u001b[2K\u001b[13A\u001b[2K\u001b[7A\u001b[2K\u001b[7A\u001b[2K\u001b[13A\u001b[2K\u001b[13A\u001b[2K\u001b[7A\u001b[2K\u001b[13A\u001b[2K\u001b[13A\u001b[2K\u001b[13A\u001b[2K\u001b[7A\u001b[2K\u001b[13A\u001b[2K\u001b[7A\u001b[2K\u001b[13A\u001b[2K\u001b[13A\u001b[2K\u001b[13A\u001b[2K\u001b[7A\u001b[2K\u001b[7A\u001b[2K\u001b[7A\u001b[2K\u001b[13A\u001b[2K\u001b[7A\u001b[2K\u001b[13A\u001b[2K\u001b[13A\u001b[2K\u001b[13A\u001b[2K\u001b[7A\u001b[2K\u001b[13A\u001b[2K\u001b[13A\u001b[2K\u001b[13A\u001b[2K\u001b[7A\u001b[2K\u001b[13A\u001b[2K\u001b[7A\u001b[2K\u001b[13A\u001b[2K\u001b[13A\u001b[2K\u001b[7A\u001b[2K\u001b[13A\u001b[2K\u001b[13A\u001b[2K\u001b[7A\u001b[2K\u001b[7A\u001b[2K\u001b[13A\u001b[2K\u001b[7A\u001b[2K\u001b[13A\u001b[2K\u001b[13A\u001b[2K\u001b[7A\u001b[2K\u001b[7A\u001b[2K\u001b[7A\u001b[2K\u001b[13A\u001b[2K\u001b[7A\u001b[2K\u001b[7A\u001b[2K\u001b[13A\u001b[2K\u001b[22A\u001b[2K\u001b[13A\u001b[2K\u001b[13A\u001b[2K\u001b[13A\u001b[2K\u001b[7A\u001b[2K\u001b[13A\u001b[2K\u001b[7A\u001b[2K\u001b[7A\u001b[2K\u001b[13A\u001b[2K\u001b[7A\u001b[2K\u001b[7A\u001b[2K\u001b[7A\u001b[2K\u001b[13A\u001b[2K\u001b[13A\u001b[2K\u001b[13A\u001b[2K\u001b[7A\u001b[2K\u001b[13A\u001b[2K\u001b[7A\u001b[2K\u001b[13A\u001b[2K\u001b[13A\u001b[2K\u001b[13A\u001b[2K\u001b[7A\u001b[2K\u001b[13A\u001b[2K\u001b[7A\u001b[2K\u001b[7A\u001b[2K\u001b[13A\u001b[2K\u001b[7A\u001b[2K\u001b[7A\u001b[2K\u001b[7A\u001b[2K\u001b[7A\u001b[2K\u001b[7A\u001b[2K\u001b[7A\u001b[2K\u001b[7A\u001b[2K\u001b[22A\u001b[2K\u001b[7A\u001b[2K\u001b[7A\u001b[2K\u001b[7A\u001b[2K\u001b[7A\u001b[2K\u001b[6A\u001b[2K\u001b[7A\u001b[2K\u001b[7A\u001b[2K\u001b[6A\u001b[2K\u001b[7A\u001b[2K\u001b[6A\u001b[2K\u001b[6A\u001b[2K\u001b[7A\u001b[2K\u001b[6A\u001b[2K\u001b[6A\u001b[2K\u001b[7A\u001b[2K\u001b[7A\u001b[2K\u001b[22A\u001b[2K\u001b[7A\u001b[2K\u001b[6A\u001b[2K\u001b[7A\u001b[2K\u001b[6A\u001b[2K\u001b[7A\u001b[2K\u001b[6A\u001b[2K\u001b[7A\u001b[2K\u001b[6A\u001b[2K\u001b[7A\u001b[2K\u001b[6A\u001b[2K\u001b[7A\u001b[2K\u001b[6A\u001b[2K\u001b[6A\u001b[2K\u001b[6A\u001b[2K\u001b[6A\u001b[2K\u001b[6A\u001b[2K\u001b[6A\u001b[2K\u001b[7A\u001b[2K\u001b[6A\u001b[2K\u001b[7A\u001b[2K\u001b[6A\u001b[2K\u001b[7A\u001b[2K\u001b[6A\u001b[2K\u001b[7A\u001b[2K\u001b[6A\u001b[2K\u001b[6A\u001b[2K\u001b[6A\u001b[2K\u001b[7A\u001b[2K\u001b[6A\u001b[2K\u001b[6A\u001b[2K\u001b[7A\u001b[2K\u001b[6A\u001b[2K\u001b[6A\u001b[2K\u001b[7A\u001b[2K\u001b[6A\u001b[2K\u001b[6A\u001b[2K\u001b[6A\u001b[2K\u001b[7A\u001b[2K\u001b[6A\u001b[2K\u001b[7A\u001b[2K\u001b[6A\u001b[2K\u001b[6A\u001b[2K\u001b[6A\u001b[2K\u001b[6A\u001b[2K\u001b[7A\u001b[2K\u001b[6A\u001b[2K\u001b[6A\u001b[2K\u001b[7A\u001b[2K\u001b[6A\u001b[2K\u001b[7A\u001b[2K\u001b[6A\u001b[2K\u001b[7A\u001b[2K\u001b[7A\u001b[2K\u001b[6A\u001b[2K\u001b[7A\u001b[2K\u001b[7A\u001b[2K\u001b[7A\u001b[2K\u001b[7A\u001b[2K\u001b[5A\u001b[2K\u001b[7A\u001b[2K\u001b[7A\u001b[2K\u001b[7A\u001b[2K\u001b[7A\u001b[2K\u001b[4A\u001b[2K\u001b[4A\u001b[2K\u001b[7A\u001b[2K\u001b[7A\u001b[2K\u001b[7A\u001b[2K\u001b[7A\u001b[2K\u001b[7A\u001b[2K\u001b[7A\u001b[2K\u001b[7A\u001b[2K\u001b[3A\u001b[2K\u001b[7A\u001b[2K\u001b[3A\u001b[2K\u001b[7A\u001b[2K\u001b[7A\u001b[2K\u001b[7A\u001b[2K\u001b[7A\u001b[2K\u001b[7A\u001b[2K\u001b[7A\u001b[2K\u001b[3A\u001b[2K\u001b[7A\u001b[2K\u001b[22A\u001b[2K\u001b[7A\u001b[2K\u001b[3A\u001b[2K\u001b[3A\u001b[2K\u001b[7A\u001b[2K\u001b[7A\u001b[2K\u001b[3A\u001b[2K\u001b[3A\u001b[2K\u001b[7A\u001b[2K\u001b[7A\u001b[2K\u001b[3A\u001b[2K\u001b[3A\u001b[2K\u001b[3A\u001b[2K\u001b[3A\u001b[2K\u001b[7A\u001b[2K\u001b[3A\u001b[2K\u001b[7A\u001b[2K\u001b[3A\u001b[2K\u001b[3A\u001b[2K\u001b[3A\u001b[2K\u001b[7A\u001b[2K\u001b[3A\u001b[2K\u001b[3A\u001b[2K\u001b[7A\u001b[2K\u001b[22A\u001b[2K\u001b[7A\u001b[2K\u001b[3A\u001b[2K\u001b[7A\u001b[2K\u001b[3A\u001b[2K\u001b[7A\u001b[2K\u001b[3A\u001b[2K\u001b[3A\u001b[2K\u001b[7A\u001b[2K\u001b[3A\u001b[2K\u001b[7A\u001b[2K\u001b[3A\u001b[2K\u001b[3A\u001b[2K\u001b[3A\u001b[2K\u001b[7A\u001b[2K\u001b[3A\u001b[2K\u001b[3A\u001b[2K\u001b[3A\u001b[2K\u001b[7A\u001b[2K\u001b[7A\u001b[2K\u001b[3A\u001b[2K\u001b[3A\u001b[2K\u001b[7A\u001b[2K\u001b[22A\u001b[2K\u001b[3A\u001b[2K\u001b[7A\u001b[2K\u001b[7A\u001b[2K\u001b[3A\u001b[2K\u001b[7A\u001b[2K\u001b[7A\u001b[2K\u001b[7A\u001b[2K\u001b[7A\u001b[2K\u001b[7A\u001b[2K\u001b[7A\u001b[2K\u001b[2A\u001b[2K\u001b[2A\u001b[2K\u001b[2A\u001b[2K\u001b[7A\u001b[2K\u001b[2A\u001b[2K\u001b[7A\u001b[2K\u001b[2A\u001b[2K\u001b[7A\u001b[2K\u001b[2A\u001b[2K\u001b[7A\u001b[2K\u001b[22A\u001b[2K\u001b[2A\u001b[2K\u001b[7A\u001b[2K\u001b[2A\u001b[2K\u001b[7A\u001b[2K\u001b[2A\u001b[2K\u001b[7A\u001b[2K\u001b[7A\u001b[2K\u001b[2A\u001b[2K\u001b[2A\u001b[2K\u001b[7A\u001b[2K\u001b[2A\u001b[2K\u001b[7A\u001b[2K\u001b[2A\u001b[2K\u001b[7A\u001b[2K\u001b[2A\u001b[2K\u001b[7A\u001b[2K\u001b[2A\u001b[2K\u001b[2A\u001b[2K\u001b[7A\u001b[2K\u001b[7A\u001b[2K\u001b[7A\u001b[2K\u001b[7A\u001b[2K\u001b[7A\u001b[2K\u001b[7A\u001b[2K\u001b[7A\u001b[2K\u001b[22A\u001b[2K\u001b[7A\u001b[2K\u001b[7A\u001b[2K\u001b[1A\u001b[2K\u001b[1A\u001b[2K\u001b[1A\u001b[2K\u001b[1A\u001b[2K\u001b[7A\u001b[2K\u001b[1A\u001b[2K\u001b[7A\u001b[2K\u001b[1A\u001b[2K\u001b[7A\u001b[2K\u001b[7A\u001b[2K\u001b[7A\u001b[2K\u001b[7A\u001b[2K\u001b[7A\u001b[2K\u001b[7A\u001b[2K\u001b[7A\u001b[2K\u001b[7A\u001b[2K\u001b[7A\u001b[2K\u001b[7A\u001b[2K\u001b[7A\u001b[2K\u001b[7A\u001b[2K\u001b[7A\u001b[2K\u001b[7A\u001b[2K\u001b[7A\u001b[2K\u001b[7A\u001b[2K\u001b[7A\u001b[2K\u001b[7A\u001b[2K\u001b[7A\u001b[2K\u001b[7A\u001b[2K\u001b[7A\u001b[2K\u001b[7A\u001b[2K\u001b[7A\u001b[2K\u001b[7A\u001b[2K\u001b[7A\u001b[2K\u001b[7A\u001b[2K\u001b[7A\u001b[2K\u001b[7A\u001b[2K\u001b[7A\u001b[2K\u001b[7A\u001b[2K\u001b[7A\u001b[2K\u001b[7A\u001b[2K\u001b[7A\u001b[2K\u001b[7A\u001b[2K\u001b[7A\u001b[2K\u001b[7A\u001b[2K\u001b[7A\u001b[2K\u001b[7A\u001b[2K\u001b[7A\u001b[2K\u001b[7A\u001b[2K\u001b[7A\u001b[2K\u001b[7A\u001b[2K\u001b[7A\u001b[2K\u001b[7A\u001b[2K\u001b[7A\u001b[2K\u001b[7A\u001b[2K\u001b[7A\u001b[2K\u001b[22A\u001b[2K\u001b[7A\u001b[2K\u001b[7A\u001b[2K\u001b[7A\u001b[2K\u001b[7A\u001b[2K\u001b[7A\u001b[2K\u001b[7A\u001b[2K\u001b[7A\u001b[2K\u001b[22A\u001b[2K\u001b[22A\u001b[2K\u001b[22A\u001b[2K\u001b[22A\u001b[2K\u001b[7A\u001b[2K\u001b[22A\u001b[2K\u001b[7A\u001b[2K\u001b[22A\u001b[2K\u001b[7A\u001b[2K\u001b[22A\u001b[2K\u001b[22A\u001b[2K\u001b[22A\u001b[2K\u001b[22A\u001b[2K\u001b[21A\u001b[2K\u001b[21A\u001b[2K\u001b[21A\u001b[2K\u001b[7A\u001b[2K\u001b[20A\u001b[2K\u001b[7A\u001b[2K\u001b[20A\u001b[2K\u001b[7A\u001b[2K\u001b[20A\u001b[2K\u001b[7A\u001b[2K\u001b[20A\u001b[2K\u001b[7A\u001b[2K\u001b[20A\u001b[2K\u001b[7A\u001b[2K\u001b[20A\u001b[2K\u001b[7A\u001b[2K\u001b[20A\u001b[2K\u001b[7A\u001b[2K\u001b[20A\u001b[2K\u001b[7A\u001b[2K\u001b[20A\u001b[2K\u001b[7A\u001b[2K\u001b[20A\u001b[2K\u001b[7A\u001b[2K\u001b[20A\u001b[2K\u001b[7A\u001b[2K\u001b[7A\u001b[2K\u001b[7A\u001b[2K\u001b[20A\u001b[2K\u001b[7A\u001b[2K\u001b[20A\u001b[2K\u001b[7A\u001b[2K\u001b[18A\u001b[2K\u001b[18A\u001b[2K\u001b[17A\u001b[2K\u001b[17A\u001b[2K\u001b[7A\u001b[2K\u001b[17A\u001b[2K\u001b[7A\u001b[2K\u001b[17A\u001b[2K\u001b[7A\u001b[2K\u001b[17A\u001b[2K\u001b[7A\u001b[2K\u001b[7A\u001b[2K\u001b[17A\u001b[2K\u001b[17A\u001b[2K\u001b[17A\u001b[2K\u001b[17A\u001b[2K\u001b[17A\u001b[2K\u001b[17A\u001b[2K\u001b[7A\u001b[2K\u001b[17A\u001b[2K\u001b[7A\u001b[2K\u001b[17A\u001b[2K\u001b[7A\u001b[2K\u001b[17A\u001b[2K\u001b[7A\u001b[2K\u001b[17A\u001b[2K\u001b[7A\u001b[2K\u001b[17A\u001b[2K\u001b[17A\u001b[2K\u001b[17A\u001b[2K\u001b[17A\u001b[2K\u001b[17A\u001b[2K\u001b[7A\u001b[2K\u001b[17A\u001b[2K\u001b[7A\u001b[2K\u001b[17A\u001b[2K\u001b[7A\u001b[2K\u001b[17A\u001b[2K\u001b[7A\u001b[2K\u001b[17A\u001b[2K\u001b[7A\u001b[2K\u001b[17A\u001b[2K\u001b[7A\u001b[2K\u001b[17A\u001b[2K\u001b[7A\u001b[2K\u001b[17A\u001b[2K\u001b[7A\u001b[2K\u001b[7A\u001b[2K\u001b[17A\u001b[2K\u001b[17A\u001b[2K\u001b[17A\u001b[2K\u001b[7A\u001b[2K\u001b[17A\u001b[2K\u001b[7A\u001b[2K\u001b[7A\u001b[2K\u001b[17A\u001b[2K\u001b[7A\u001b[2K\u001b[17A\u001b[2K\u001b[7A\u001b[2K\u001b[7A\u001b[2K\u001b[17A\u001b[2K\u001b[7A\u001b[2K\u001b[17A\u001b[2K\u001b[17A\u001b[2K\u001b[17A\u001b[2K\u001b[17A\u001b[2K\u001b[7A\u001b[2K\u001b[7A\u001b[2K\u001b[17A\u001b[2K\u001b[7A\u001b[2K\u001b[17A\u001b[2K\u001b[7A\u001b[2K\u001b[17A\u001b[2K\u001b[7A\u001b[2K\u001b[17A\u001b[2K\u001b[17A\u001b[2K\u001b[17A\u001b[2K\u001b[7A\u001b[2K\u001b[17A\u001b[2K\u001b[7A\u001b[2K\u001b[17A\u001b[2K\u001b[7A\u001b[2K\u001b[17A\u001b[2K\u001b[7A\u001b[2K\u001b[7A\u001b[2K\u001b[17A\u001b[2K\u001b[17A\u001b[2K\u001b[17A\u001b[2K\u001b[7A\u001b[2K\u001b[17A\u001b[2K\u001b[7A\u001b[2K\u001b[17A\u001b[2K\u001b[7A\u001b[2K\u001b[7A\u001b[2K\u001b[17A\u001b[2K\u001b[7A\u001b[2K\u001b[17A\u001b[2K\u001b[17A\u001b[2K\u001b[17A\u001b[2K\u001b[7A\u001b[2K\u001b[17A\u001b[2K\u001b[7A\u001b[2K\u001b[17A\u001b[2K\u001b[17A\u001b[2KExtracting  354.8MB/1.379GB\u001b[7A\u001b[2K\u001b[17A\u001b[2K\u001b[7A\u001b[2K\u001b[17A\u001b[2K\u001b[7A\u001b[2K\u001b[17A\u001b[2K\u001b[7A\u001b[2K\u001b[7A\u001b[2K\u001b[17A\u001b[2K\u001b[17A\u001b[2K\u001b[17A\u001b[2K\u001b[17A\u001b[2K\u001b[7A\u001b[2K\u001b[17A\u001b[2K\u001b[7A\u001b[2K\u001b[17A\u001b[2K\u001b[7A\u001b[2K\u001b[17A\u001b[2K\u001b[7A\u001b[2K\u001b[7A\u001b[2K\u001b[17A\u001b[2K\u001b[17A\u001b[2K\u001b[17A\u001b[2K\u001b[7A\u001b[2K\u001b[17A\u001b[2K\u001b[7A\u001b[2K\u001b[17A\u001b[2K\u001b[7A\u001b[2K\u001b[17A\u001b[2K\u001b[7A\u001b[2K\u001b[17A\u001b[2K\u001b[7A\u001b[2K\u001b[17A\u001b[2K\u001b[7A\u001b[2K\u001b[7A\u001b[2K\u001b[17A\u001b[2K\u001b[7A\u001b[2K\u001b[7A\u001b[2K\u001b[17A\u001b[2K\u001b[17A\u001b[2K\u001b[17A\u001b[2K\u001b[7A\u001b[2K\u001b[17A\u001b[2K\u001b[7A\u001b[2K\u001b[17A\u001b[2K\u001b[7A\u001b[2K\u001b[17A\u001b[2K\u001b[7A\u001b[2K\u001b[17A\u001b[2K\u001b[7A\u001b[2K\u001b[7A\u001b[2K\u001b[7A\u001b[2K\u001b[17A\u001b[2K\u001b[17A\u001b[2K\u001b[17A\u001b[2K\u001b[17A\u001b[2K\u001b[17A\u001b[2K\u001b[7A\u001b[2K\u001b[17A\u001b[2K\u001b[7A\u001b[2K\u001b[17A\u001b[2K\u001b[7A\u001b[2K\u001b[7A\u001b[2K\u001b[17A\u001b[2K\u001b[7A\u001b[2K\u001b[17A\u001b[2K\u001b[17A\u001b[2K\u001b[7A\u001b[2K\u001b[17A\u001b[2K\u001b[7A\u001b[2K\u001b[17A\u001b[2K\u001b[7A\u001b[2K\u001b[17A\u001b[2K\u001b[7A\u001b[2K\u001b[17A\u001b[2K\u001b[7A\u001b[2K\u001b[7A\u001b[2K\u001b[7A\u001b[2K\u001b[17A\u001b[2K\u001b[17A\u001b[2K\u001b[7A\u001b[2K\u001b[17A\u001b[2K\u001b[7A\u001b[2K\u001b[17A\u001b[2K\u001b[7A\u001b[2K\u001b[17A\u001b[2K\u001b[7A\u001b[2K\u001b[17A\u001b[2K\u001b[7A\u001b[2K\u001b[7A\u001b[2K\u001b[7A\u001b[2K\u001b[7A\u001b[2K\u001b[17A\u001b[2K\u001b[17A\u001b[2K\u001b[17A\u001b[2K\u001b[17A\u001b[2K\u001b[17A\u001b[2K\u001b[7A\u001b[2K\u001b[17A\u001b[2K\u001b[7A\u001b[2K\u001b[17A\u001b[2K\u001b[7A\u001b[2K\u001b[17A\u001b[2K\u001b[7A\u001b[2K\u001b[17A\u001b[2K\u001b[7A\u001b[2K\u001b[17A\u001b[2K\u001b[7A\u001b[2K\u001b[17A\u001b[2K\u001b[17A\u001b[2K\u001b[17A\u001b[2K\u001b[7A\u001b[2K\u001b[17A\u001b[2K\u001b[7A\u001b[2K\u001b[17A\u001b[2K\u001b[7A\u001b[2K\u001b[17A\u001b[2K\u001b[7A\u001b[2K\u001b[17A\u001b[2K\u001b[7A\u001b[2K\u001b[17A\u001b[2K\u001b[17A\u001b[2K\u001b[17A\u001b[2K\u001b[7A\u001b[2K\u001b[17A\u001b[2K\u001b[17A\u001b[2K\u001b[7A\u001b[2K\u001b[17A\u001b[2K\u001b[17A\u001b[2K\u001b[7A\u001b[2K\u001b[7A\u001b[2K\u001b[7A\u001b[2K\u001b[7A\u001b[2K\u001b[17A\u001b[2K\u001b[17A\u001b[2K\u001b[7A\u001b[2K\u001b[17A\u001b[2K\u001b[7A\u001b[2K\u001b[17A\u001b[2K\u001b[7A\u001b[2K\u001b[17A\u001b[2K\u001b[7A\u001b[2K\u001b[17A\u001b[2K\u001b[7A\u001b[2K\u001b[7A\u001b[2K\u001b[7A\u001b[2K\u001b[17A\u001b[2K\u001b[7A\u001b[2K\u001b[17A\u001b[2K\u001b[7A\u001b[2K\u001b[17A\u001b[2K\u001b[17A\u001b[2K\u001b[17A\u001b[2K\u001b[17A\u001b[2K\u001b[7A\u001b[2K\u001b[17A\u001b[2K\u001b[7A\u001b[2K\u001b[7A\u001b[2K\u001b[17A\u001b[2K\u001b[7A\u001b[2K\u001b[17A\u001b[2K\u001b[7A\u001b[2K\u001b[17A\u001b[2K\u001b[17A\u001b[2K\u001b[17A\u001b[2K\u001b[7A\u001b[2K\u001b[17A\u001b[2K\u001b[17A\u001b[2K\u001b[17A\u001b[2K\u001b[17A\u001b[2K\u001b[7A\u001b[2K\u001b[17A\u001b[2K\u001b[7A\u001b[2K\u001b[17A\u001b[2K\u001b[7A\u001b[2K\u001b[17A\u001b[2K\u001b[7A\u001b[2K\u001b[7A\u001b[2K\u001b[7A\u001b[2K\u001b[17A\u001b[2K\u001b[7A\u001b[2K\u001b[17A\u001b[2K\u001b[7A\u001b[2K\u001b[7A\u001b[2K\u001b[17A\u001b[2K\u001b[17A\u001b[2K\u001b[17A\u001b[2K\u001b[7A\u001b[2K\u001b[17A\u001b[2K\u001b[7A\u001b[2K\u001b[17A\u001b[2K\u001b[7A\u001b[2K\u001b[17A\u001b[2K\u001b[7A\u001b[2K\u001b[17A\u001b[2K\u001b[7A\u001b[2K\u001b[7A\u001b[2K\u001b[7A\u001b[2K\u001b[17A\u001b[2K\u001b[7A\u001b[2K\u001b[17A\u001b[2K\u001b[17A\u001b[2K\u001b[17A\u001b[2K\u001b[7A\u001b[2K\u001b[17A\u001b[2K\u001b[7A\u001b[2K\u001b[17A\u001b[2K\u001b[7A\u001b[2K\u001b[7A\u001b[2K\u001b[7A\u001b[2K\u001b[7A\u001b[2K\u001b[17A\u001b[2K\u001b[17A\u001b[2K\u001b[17A\u001b[2K\u001b[7A\u001b[2K\u001b[17A\u001b[2K\u001b[17A\u001b[2K\u001b[7A\u001b[2K\u001b[17A\u001b[2K\u001b[7A\u001b[2K\u001b[17A\u001b[2K\u001b[7A\u001b[2K\u001b[17A\u001b[2K\u001b[7A\u001b[2K\u001b[7A\u001b[2K\u001b[17A\u001b[2K\u001b[17A\u001b[2K\u001b[17A\u001b[2K\u001b[17A\u001b[2K\u001b[17A\u001b[2K\u001b[17A\u001b[2K\u001b[17A\u001b[2K\u001b[17A\u001b[2K\u001b[17A\u001b[2K\u001b[17A\u001b[2K\u001b[17A\u001b[2K\u001b[17A\u001b[2K\u001b[17A\u001b[2K\u001b[17A\u001b[2K\u001b[17A\u001b[2K\u001b[17A\u001b[2K\u001b[17A\u001b[2K\u001b[17A\u001b[2K\u001b[17A\u001b[2K\u001b[17A\u001b[2K\u001b[17A\u001b[2K\u001b[17A\u001b[2K\u001b[17A\u001b[2K\u001b[17A\u001b[2K\u001b[17A\u001b[2K\u001b[17A\u001b[2K\u001b[17A\u001b[2K\u001b[17A\u001b[2K\u001b[17A\u001b[2K\u001b[17A\u001b[2K\u001b[17A\u001b[2K\u001b[17A\u001b[2K\u001b[17A\u001b[2K\u001b[17A\u001b[2K\u001b[17A\u001b[2K\u001b[17A\u001b[2K\u001b[17A\u001b[2K\u001b[17A\u001b[2K\u001b[17A\u001b[2K\u001b[17A\u001b[2K\u001b[17A\u001b[2K\u001b[17A\u001b[2K\u001b[17A\u001b[2K\u001b[17A\u001b[2K\u001b[17A\u001b[2K\u001b[17A\u001b[2K\u001b[17A\u001b[2K\u001b[17A\u001b[2K\u001b[17A\u001b[2K\u001b[17A\u001b[2K\u001b[16A\u001b[2K\u001b[15A\u001b[2K\u001b[13A\u001b[2K\u001b[13A\u001b[2K\u001b[13A\u001b[2K\u001b[13A\u001b[2K\u001b[13A\u001b[2K\u001b[13A\u001b[2K\u001b[13A\u001b[2K\u001b[13A\u001b[2K\u001b[13A\u001b[2K\u001b[13A\u001b[2K\u001b[13A\u001b[2K\u001b[13A\u001b[2K\u001b[13A\u001b[2K\u001b[13A\u001b[2K\u001b[13A\u001b[2K\u001b[13A\u001b[2K\u001b[13A\u001b[2K\u001b[13A\u001b[2K\u001b[13A\u001b[2K\u001b[13A\u001b[2K\u001b[13A\u001b[2K\u001b[13A\u001b[2K\u001b[13A\u001b[2K\u001b[13A\u001b[2K\u001b[13A\u001b[2K\u001b[13A\u001b[2K\u001b[13A\u001b[2K\u001b[13A\u001b[2K\u001b[13A\u001b[2K\u001b[13A\u001b[2K\u001b[13A\u001b[2K\u001b[13A\u001b[2K\u001b[13A\u001b[2K\u001b[13A\u001b[2K\u001b[13A\u001b[2K\u001b[13A\u001b[2K\u001b[13A\u001b[2K\u001b[13A\u001b[2K\u001b[13A\u001b[2K\u001b[13A\u001b[2K\u001b[13A\u001b[2K\u001b[13A\u001b[2K\u001b[13A\u001b[2K\u001b[13A\u001b[2K\u001b[13A\u001b[2K\u001b[13A\u001b[2K\u001b[13A\u001b[2K\u001b[13A\u001b[2K\u001b[13A\u001b[2K\u001b[13A\u001b[2K\u001b[13A\u001b[2K\u001b[13A\u001b[2K\u001b[13A\u001b[2K\u001b[13A\u001b[2K\u001b[13A\u001b[2K\u001b[13A\u001b[2K\u001b[13A\u001b[2K\u001b[13A\u001b[2K\u001b[13A\u001b[2K\u001b[13A\u001b[2K\u001b[13A\u001b[2K\u001b[13A\u001b[2K\u001b[13A\u001b[2K\u001b[13A\u001b[2K\u001b[13A\u001b[2K\u001b[13A\u001b[2K\u001b[13A\u001b[2K\u001b[13A\u001b[2K\u001b[13A\u001b[2K\u001b[13A\u001b[2K\u001b[13A\u001b[2K\u001b[13A\u001b[2K\u001b[13A\u001b[2K\u001b[13A\u001b[2K\u001b[13A\u001b[2K\u001b[13A\u001b[2K\u001b[13A\u001b[2K\u001b[13A\u001b[2K\u001b[13A\u001b[2K\u001b[13A\u001b[2K\u001b[13A\u001b[2K\u001b[13A\u001b[2K\u001b[13A\u001b[2K\u001b[13A\u001b[2K\u001b[13A\u001b[2K\u001b[13A\u001b[2K\u001b[13A\u001b[2K\u001b[13A\u001b[2K\u001b[13A\u001b[2K\u001b[13A\u001b[2K\u001b[13A\u001b[2K\u001b[13A\u001b[2K\u001b[13A\u001b[2K\u001b[13A\u001b[2K\u001b[13A\u001b[2K\u001b[13A\u001b[2K\u001b[13A\u001b[2K\u001b[13A\u001b[2K\u001b[13A\u001b[2K\u001b[13A\u001b[2K\u001b[13A\u001b[2K\u001b[13A\u001b[2K\u001b[13A\u001b[2K\u001b[13A\u001b[2K\u001b[13A\u001b[2K\u001b[13A\u001b[2K\u001b[13A\u001b[2K\u001b[13A\u001b[2K\u001b[13A\u001b[2K\u001b[13A\u001b[2K\u001b[13A\u001b[2K\u001b[13A\u001b[2K\u001b[13A\u001b[2K\u001b[13A\u001b[2K\u001b[13A\u001b[2K\u001b[13A\u001b[2K\u001b[13A\u001b[2K\u001b[13A\u001b[2K\u001b[13A\u001b[2K\u001b[13A\u001b[2K\u001b[13A\u001b[2K\u001b[13A\u001b[2K\u001b[13A\u001b[2K\u001b[13A\u001b[2K\u001b[13A\u001b[2K\u001b[13A\u001b[2K\u001b[13A\u001b[2K\u001b[13A\u001b[2K\u001b[13A\u001b[2K\u001b[13A\u001b[2K\u001b[13A\u001b[2K\u001b[13A\u001b[2K\u001b[13A\u001b[2K\u001b[13A\u001b[2K\u001b[13A\u001b[2K\u001b[13A\u001b[2K\u001b[13A\u001b[2K\u001b[13A\u001b[2K\u001b[13A\u001b[2K\u001b[13A\u001b[2K\u001b[13A\u001b[2K\u001b[13A\u001b[2K\u001b[13A\u001b[2K\u001b[13A\u001b[2K\u001b[13A\u001b[2K\u001b[13A\u001b[2K\u001b[13A\u001b[2K\u001b[13A\u001b[2K\u001b[13A\u001b[2K\u001b[13A\u001b[2K\u001b[13A\u001b[2K\u001b[13A\u001b[2K\u001b[13A\u001b[2K\u001b[13A\u001b[2K\u001b[13A\u001b[2K\u001b[13A\u001b[2K\u001b[13A\u001b[2K\u001b[13A\u001b[2K\u001b[13A\u001b[2K\u001b[13A\u001b[2K\u001b[13A\u001b[2K\u001b[13A\u001b[2K\u001b[13A\u001b[2K\u001b[13A\u001b[2K\u001b[13A\u001b[2K\u001b[13A\u001b[2K\u001b[13A\u001b[2K\u001b[13A\u001b[2K\u001b[13A\u001b[2K\u001b[13A\u001b[2K\u001b[13A\u001b[2K\u001b[13A\u001b[2K\u001b[13A\u001b[2K\u001b[13A\u001b[2K\u001b[13A\u001b[2K\u001b[13A\u001b[2K\u001b[13A\u001b[2K\u001b[13A\u001b[2K\u001b[13A\u001b[2K\u001b[13A\u001b[2K\u001b[13A\u001b[2K\u001b[13A\u001b[2K\u001b[13A\u001b[2K\u001b[13A\u001b[2K\u001b[13A\u001b[2K\u001b[13A\u001b[2K\u001b[13A\u001b[2K\u001b[13A\u001b[2K\u001b[13A\u001b[2K\u001b[13A\u001b[2K\u001b[13A\u001b[2K\u001b[13A\u001b[2K\u001b[13A\u001b[2K\u001b[13A\u001b[2K\u001b[13A\u001b[2K\u001b[13A\u001b[2K\u001b[13A\u001b[2K\u001b[13A\u001b[2K\u001b[13A\u001b[2K\u001b[13A\u001b[2K\u001b[13A\u001b[2K\u001b[13A\u001b[2K\u001b[13A\u001b[2K\u001b[13A\u001b[2K\u001b[13A\u001b[2K\u001b[13A\u001b[2K\u001b[13A\u001b[2K\u001b[13A\u001b[2K\u001b[13A\u001b[2K\u001b[13A\u001b[2K\u001b[13A\u001b[2K\u001b[13A\u001b[2K\u001b[13A\u001b[2K\u001b[13A\u001b[2K\u001b[13A\u001b[2K\u001b[13A\u001b[2K\u001b[13A\u001b[2K\u001b[13A\u001b[2K\u001b[13A\u001b[2K\u001b[13A\u001b[2K\u001b[13A\u001b[2K\u001b[13A\u001b[2K\u001b[13A\u001b[2K\u001b[13A\u001b[2K\u001b[13A\u001b[2K\u001b[13A\u001b[2K\u001b[13A\u001b[2K\u001b[13A\u001b[2K\u001b[13A\u001b[2K\u001b[13A\u001b[2K\u001b[13A\u001b[2K\u001b[13A\u001b[2K\u001b[13A\u001b[2K\u001b[13A\u001b[2K\u001b[13A\u001b[2K\u001b[13A\u001b[2K\u001b[13A\u001b[2K\u001b[13A\u001b[2K\u001b[13A\u001b[2K\u001b[13A\u001b[2K\u001b[13A\u001b[2K\u001b[13A\u001b[2K\u001b[13A\u001b[2K\u001b[13A\u001b[2K\u001b[13A\u001b[2K\u001b[13A\u001b[2K\u001b[13A\u001b[2K\u001b[13A\u001b[2K\u001b[13A\u001b[2K\u001b[13A\u001b[2K\u001b[13A\u001b[2K\u001b[13A\u001b[2K\u001b[13A\u001b[2K\u001b[13A\u001b[2K\u001b[13A\u001b[2K\u001b[13A\u001b[2K\u001b[13A\u001b[2K\u001b[13A\u001b[2K\u001b[13A\u001b[2K\u001b[13A\u001b[2K\u001b[13A\u001b[2K\u001b[13A\u001b[2K\u001b[13A\u001b[2K\u001b[13A\u001b[2K\u001b[13A\u001b[2K\u001b[13A\u001b[2K\u001b[13A\u001b[2K\u001b[13A\u001b[2K\u001b[13A\u001b[2K\u001b[13A\u001b[2K\u001b[13A\u001b[2K\u001b[13A\u001b[2K\u001b[13A\u001b[2K\u001b[13A\u001b[2K\u001b[13A\u001b[2K\u001b[13A\u001b[2K\u001b[13A\u001b[2K\u001b[13A\u001b[2K\u001b[13A\u001b[2K\u001b[13A\u001b[2K\u001b[13A\u001b[2K\u001b[13A\u001b[2K\u001b[13A\u001b[2K\u001b[13A\u001b[2K\u001b[13A\u001b[2K\u001b[13A\u001b[2K\u001b[13A\u001b[2K\u001b[13A\u001b[2K\u001b[13A\u001b[2K\u001b[13A\u001b[2K\u001b[13A\u001b[2K\u001b[13A\u001b[2K\u001b[13A\u001b[2K\u001b[13A\u001b[2K\u001b[13A\u001b[2K\u001b[13A\u001b[2K\u001b[13A\u001b[2K\u001b[13A\u001b[2K\u001b[13A\u001b[2K\u001b[13A\u001b[2K\u001b[13A\u001b[2K\u001b[13A\u001b[2K\u001b[13A\u001b[2K\u001b[13A\u001b[2K\u001b[13A\u001b[2K\u001b[13A\u001b[2K\u001b[13A\u001b[2K\u001b[13A\u001b[2K\u001b[13A\u001b[2K\u001b[13A\u001b[2K\u001b[13A\u001b[2K\u001b[13A\u001b[2K\u001b[13A\u001b[2K\u001b[13A\u001b[2K\u001b[13A\u001b[2K\u001b[13A\u001b[2K\u001b[13A\u001b[2K\u001b[13A\u001b[2K\u001b[13A\u001b[2K\u001b[13A\u001b[2K\u001b[13A\u001b[2K\u001b[13A\u001b[2K\u001b[13A\u001b[2K\u001b[13A\u001b[2K\u001b[13A\u001b[2K\u001b[13A\u001b[2K\u001b[13A\u001b[2K\u001b[13A\u001b[2K\u001b[12A\u001b[2K\u001b[11A\u001b[2K\u001b[11A\u001b[2K\u001b[11A\u001b[2K\u001b[10A\u001b[2K\u001b[10A\u001b[2K\u001b[10A\u001b[2K\u001b[10A\u001b[2K\u001b[10A\u001b[2K\u001b[10A\u001b[2K\u001b[10A\u001b[2K\u001b[10A\u001b[2K\u001b[10A\u001b[2K\u001b[10A\u001b[2K\u001b[10A\u001b[2K\u001b[10A\u001b[2K\u001b[10A\u001b[2K\u001b[10A\u001b[2K\u001b[10A\u001b[2K\u001b[10A\u001b[2K\u001b[10A\u001b[2K\u001b[10A\u001b[2K\u001b[10A\u001b[2K\u001b[10A\u001b[2K\u001b[10A\u001b[2K\u001b[10A\u001b[2K\u001b[10A\u001b[2K\u001b[10A\u001b[2K\u001b[10A\u001b[2K\u001b[10A\u001b[2K\u001b[10A\u001b[2K\u001b[10A\u001b[2K\u001b[10A\u001b[2K\u001b[10A\u001b[2K\u001b[10A\u001b[2K\u001b[10A\u001b[2K\u001b[10A\u001b[2K\u001b[10A\u001b[2K\u001b[10A\u001b[2K\u001b[10A\u001b[2K\u001b[10A\u001b[2K\u001b[10A\u001b[2K\u001b[10A\u001b[2K\u001b[10A\u001b[2K\u001b[10A\u001b[2K\u001b[10A\u001b[2K\u001b[10A\u001b[2K\u001b[10A\u001b[2K\u001b[10A\u001b[2K\u001b[10A\u001b[2K\u001b[10A\u001b[2K\u001b[10A\u001b[2K\u001b[10A\u001b[2K\u001b[10A\u001b[2K\u001b[10A\u001b[2K\u001b[10A\u001b[2K\u001b[10A\u001b[2K\u001b[10A\u001b[2K\u001b[10A\u001b[2K\u001b[9A\u001b[2K\u001b[7A\u001b[2K\u001b[7A\u001b[2K\u001b[7A\u001b[2KExtracting  10.58MB/1.802GB\u001b[7A\u001b[2K\u001b[7A\u001b[2K\u001b[7A\u001b[2K\u001b[7A\u001b[2K\u001b[7A\u001b[2K\u001b[7A\u001b[2K\u001b[7A\u001b[2K\u001b[7A\u001b[2K\u001b[7A\u001b[2K\u001b[7A\u001b[2K\u001b[7A\u001b[2K\u001b[7A\u001b[2K\u001b[7A\u001b[2K\u001b[7A\u001b[2K\u001b[7A\u001b[2K\u001b[7A\u001b[2K\u001b[7A\u001b[2K\u001b[7A\u001b[2K\u001b[7A\u001b[2K\u001b[7A\u001b[2K\u001b[7A\u001b[2K\u001b[7A\u001b[2K\u001b[7A\u001b[2K\u001b[7A\u001b[2K\u001b[7A\u001b[2K\u001b[7A\u001b[2K\u001b[7A\u001b[2K\u001b[7A\u001b[2K\u001b[7A\u001b[2K\u001b[7A\u001b[2K\u001b[7A\u001b[2K\u001b[7A\u001b[2K\u001b[7A\u001b[2K\u001b[7A\u001b[2K\u001b[7A\u001b[2K\u001b[7A\u001b[2K\u001b[7A\u001b[2K\u001b[7A\u001b[2K\u001b[7A\u001b[2K\u001b[7A\u001b[2K\u001b[7A\u001b[2K\u001b[7A\u001b[2K\u001b[7A\u001b[2K\u001b[7A\u001b[2K\u001b[7A\u001b[2K\u001b[7A\u001b[2K\u001b[7A\u001b[2K\u001b[7A\u001b[2K\u001b[7A\u001b[2K\u001b[7A\u001b[2K\u001b[7A\u001b[2K\u001b[7A\u001b[2K\u001b[7A\u001b[2K\u001b[7A\u001b[2K\u001b[7A\u001b[2K\u001b[7A\u001b[2K\u001b[7A\u001b[2K\u001b[7A\u001b[2K\u001b[7A\u001b[2K\u001b[7A\u001b[2K\u001b[7A\u001b[2K\u001b[7A\u001b[2K\u001b[7A\u001b[2K\u001b[7A\u001b[2K\u001b[7A\u001b[2K\u001b[7A\u001b[2K\u001b[7A\u001b[2K\u001b[7A\u001b[2K\u001b[7A\u001b[2K\u001b[7A\u001b[2K\u001b[7A\u001b[2K\u001b[7A\u001b[2K\u001b[7A\u001b[2K\u001b[7A\u001b[2K\u001b[7A\u001b[2K\u001b[7A\u001b[2K\u001b[7A\u001b[2K\u001b[7A\u001b[2K\u001b[7A\u001b[2K\u001b[7A\u001b[2K\u001b[7A\u001b[2K\u001b[7A\u001b[2K\u001b[7A\u001b[2K\u001b[7A\u001b[2K\u001b[7A\u001b[2K\u001b[7A\u001b[2K\u001b[7A\u001b[2K\u001b[7A\u001b[2K\u001b[7A\u001b[2K\u001b[7A\u001b[2K\u001b[7A\u001b[2K\u001b[7A\u001b[2K\u001b[7A\u001b[2K\u001b[7A\u001b[2K\u001b[7A\u001b[2K\u001b[7A\u001b[2K\u001b[7A\u001b[2K\u001b[7A\u001b[2K\u001b[7A\u001b[2K\u001b[7A\u001b[2K\u001b[7A\u001b[2K\u001b[7A\u001b[2K\u001b[7A\u001b[2K\u001b[7A\u001b[2K\u001b[7A\u001b[2K\u001b[7A\u001b[2K\u001b[7A\u001b[2K\u001b[7A\u001b[2K\u001b[7A\u001b[2K\u001b[7A\u001b[2K\u001b[7A\u001b[2K\u001b[7A\u001b[2K\u001b[7A\u001b[2K\u001b[7A\u001b[2K\u001b[7A\u001b[2K\u001b[7A\u001b[2K\u001b[7A\u001b[2K\u001b[7A\u001b[2K\u001b[7A\u001b[2K\u001b[7A\u001b[2K\u001b[7A\u001b[2K\u001b[7A\u001b[2K\u001b[7A\u001b[2K\u001b[7A\u001b[2K\u001b[7A\u001b[2K\u001b[7A\u001b[2K\u001b[7A\u001b[2K\u001b[7A\u001b[2K\u001b[7A\u001b[2K\u001b[7A\u001b[2K\u001b[7A\u001b[2K\u001b[7A\u001b[2K\u001b[7A\u001b[2K\u001b[7A\u001b[2K\u001b[7A\u001b[2K\u001b[7A\u001b[2K\u001b[7A\u001b[2K\u001b[7A\u001b[2K\u001b[7A\u001b[2K\u001b[7A\u001b[2K\u001b[7A\u001b[2K\u001b[7A\u001b[2K\u001b[7A\u001b[2K\u001b[7A\u001b[2K\u001b[7A\u001b[2K\u001b[7A\u001b[2K\u001b[7A\u001b[2K\u001b[7A\u001b[2K\u001b[7A\u001b[2K\u001b[7A\u001b[2K\u001b[7A\u001b[2K\u001b[7A\u001b[2K\u001b[7A\u001b[2K\u001b[7A\u001b[2K\u001b[7A\u001b[2K\u001b[7A\u001b[2K\u001b[7A\u001b[2K\u001b[7A\u001b[2K\u001b[7A\u001b[2K\u001b[7A\u001b[2K\u001b[7A\u001b[2K\u001b[7A\u001b[2K\u001b[7A\u001b[2K\u001b[7A\u001b[2K\u001b[7A\u001b[2K\u001b[7A\u001b[2K\u001b[7A\u001b[2K\u001b[7A\u001b[2K\u001b[7A\u001b[2K\u001b[7A\u001b[2K\u001b[7A\u001b[2K\u001b[7A\u001b[2K\u001b[7A\u001b[2K\u001b[7A\u001b[2K\u001b[7A\u001b[2K\u001b[7A\u001b[2K\u001b[7A\u001b[2K\u001b[7A\u001b[2K\u001b[7A\u001b[2K\u001b[7A\u001b[2K\u001b[7A\u001b[2K\u001b[7A\u001b[2K\u001b[7A\u001b[2K\u001b[7A\u001b[2K\u001b[7A\u001b[2K\u001b[7A\u001b[2K\u001b[7A\u001b[2K\u001b[7A\u001b[2K\u001b[7A\u001b[2K\u001b[7A\u001b[2K\u001b[7A\u001b[2K\u001b[7A\u001b[2K\u001b[7A\u001b[2K\u001b[7A\u001b[2K\u001b[7A\u001b[2K\u001b[7A\u001b[2K\u001b[7A\u001b[2K\u001b[7A\u001b[2K\u001b[7A\u001b[2K\u001b[7A\u001b[2K\u001b[7A\u001b[2K\u001b[7A\u001b[2K\u001b[7A\u001b[2K\u001b[7A\u001b[2K\u001b[7A\u001b[2K\u001b[7A\u001b[2K\u001b[7A\u001b[2K\u001b[7A\u001b[2K\u001b[7A\u001b[2K\u001b[7A\u001b[2K\u001b[7A\u001b[2K\u001b[7A\u001b[2K\u001b[7A\u001b[2K\u001b[7A\u001b[2K\u001b[7A\u001b[2K\u001b[7A\u001b[2K\u001b[7A\u001b[2K\u001b[7A\u001b[2K\u001b[7A\u001b[2K\u001b[7A\u001b[2K\u001b[7A\u001b[2K\u001b[7A\u001b[2K\u001b[7A\u001b[2K\u001b[7A\u001b[2K\u001b[7A\u001b[2K\u001b[7A\u001b[2K\u001b[7A\u001b[2K\u001b[7A\u001b[2K\u001b[7A\u001b[2K\u001b[7A\u001b[2K\u001b[7A\u001b[2K\u001b[7A\u001b[2K\u001b[7A\u001b[2K\u001b[7A\u001b[2K\u001b[7A\u001b[2K\u001b[7A\u001b[2K\u001b[7A\u001b[2K\u001b[7A\u001b[2K\u001b[7A\u001b[2K\u001b[7A\u001b[2K\u001b[7A\u001b[2K\u001b[7A\u001b[2K\u001b[7A\u001b[2K\u001b[7A\u001b[2K\u001b[7A\u001b[2K\u001b[7A\u001b[2K\u001b[7A\u001b[2K\u001b[7A\u001b[2K\u001b[7A\u001b[2K\u001b[7A\u001b[2K\u001b[7A\u001b[2K\u001b[7A\u001b[2K\u001b[7A\u001b[2K\u001b[7A\u001b[2K\u001b[7A\u001b[2K\u001b[7A\u001b[2K\u001b[7A\u001b[2K\u001b[7A\u001b[2K\u001b[7A\u001b[2K\u001b[7A\u001b[2K\u001b[7A\u001b[2K\u001b[7A\u001b[2K\u001b[7A\u001b[2K\u001b[7A\u001b[2K\u001b[7A\u001b[2K\u001b[7A\u001b[2K\u001b[7A\u001b[2K\u001b[7A\u001b[2K\u001b[7A\u001b[2K\u001b[7A\u001b[2K\u001b[7A\u001b[2K\u001b[7A\u001b[2K\u001b[7A\u001b[2K\u001b[7A\u001b[2K\u001b[7A\u001b[2K\u001b[7A\u001b[2K\u001b[7A\u001b[2K\u001b[7A\u001b[2K\u001b[7A\u001b[2K\u001b[7A\u001b[2K\u001b[7A\u001b[2K\u001b[7A\u001b[2K\u001b[7A\u001b[2K\u001b[7A\u001b[2K\u001b[7A\u001b[2K\u001b[7A\u001b[2K\u001b[7A\u001b[2K\u001b[7A\u001b[2K\u001b[7A\u001b[2K\u001b[7A\u001b[2K\u001b[7A\u001b[2K\u001b[7A\u001b[2K\u001b[7A\u001b[2K\u001b[7A\u001b[2K\u001b[7A\u001b[2K\u001b[7A\u001b[2K\u001b[7A\u001b[2K\u001b[7A\u001b[2K\u001b[7A\u001b[2K\u001b[7A\u001b[2K\u001b[7A\u001b[2K\u001b[7A\u001b[2K\u001b[7A\u001b[2K\u001b[7A\u001b[2K\u001b[7A\u001b[2K\u001b[7A\u001b[2K\u001b[7A\u001b[2K\u001b[7A\u001b[2K\u001b[7A\u001b[2K\u001b[7A\u001b[2K\u001b[7A\u001b[2K\u001b[7A\u001b[2K\u001b[7A\u001b[2K\u001b[7A\u001b[2K\u001b[7A\u001b[2K\u001b[7A\u001b[2K\u001b[7A\u001b[2K\u001b[7A\u001b[2K\u001b[7A\u001b[2K\u001b[7A\u001b[2K\u001b[7A\u001b[2K\u001b[7A\u001b[2K\u001b[7A\u001b[2K\u001b[6A\u001b[2K\u001b[6A\u001b[2K\u001b[6A\u001b[2K\u001b[6A\u001b[2K\u001b[6A\u001b[2K\u001b[6A\u001b[2K\u001b[6A\u001b[2K\u001b[6A\u001b[2K\u001b[6A\u001b[2K\u001b[6A\u001b[2K\u001b[6A\u001b[2K\u001b[6A\u001b[2K\u001b[6A\u001b[2K\u001b[6A\u001b[2K\u001b[6A\u001b[2K\u001b[6A\u001b[2K\u001b[6A\u001b[2K\u001b[6A\u001b[2K\u001b[6A\u001b[2K\u001b[6A\u001b[2K\u001b[6A\u001b[2K\u001b[6A\u001b[2K\u001b[5A\u001b[2K\u001b[4A\u001b[2K\u001b[3A\u001b[2K\u001b[3A\u001b[2K\u001b[3A\u001b[2K\u001b[3A\u001b[2K\u001b[3A\u001b[2K\u001b[3A\u001b[2K\u001b[3A\u001b[2K\u001b[3A\u001b[2K\u001b[3A\u001b[2K\u001b[3A\u001b[2K\u001b[3A\u001b[2K\u001b[3A\u001b[2K\u001b[3A\u001b[2K\u001b[3A\u001b[2K\u001b[3A\u001b[2K\u001b[3A\u001b[2K\u001b[3A\u001b[2K\u001b[3A\u001b[2K\u001b[2A\u001b[2K\u001b[2A\u001b[2K\u001b[2A\u001b[2K\u001b[2A\u001b[2K\u001b[2A\u001b[2K\u001b[1A\u001b[2KDigest: sha256:318be52ae65d2c366f7b83145a85de6f3156ce348dc5b575f9d830b63e9b1625\n",
      "Status: Downloaded newer image for ghcr.io/huggingface/text-generation-inference:sagemaker-sha-4b5e36d\n",
      "ghcr.io/huggingface/text-generation-inference:sagemaker-sha-4b5e36d\n",
      "Logging in to Amazon ECR...\n",
      "Login Succeeded\n",
      "\n",
      "Logging in with your password grants your terminal complete access to your account. \n",
      "For better security, log in with a limited-privilege personal access token. Learn more at https://docs.docker.com/go/access-tokens/\n",
      "Creating ECR repository sagemaker-text-generation-inference...\n",
      "{\n",
      "    \"repositories\": [\n",
      "        {\n",
      "            \"repositoryArn\": \"arn:aws:ecr:us-east-1:558105141721:repository/sagemaker-text-generation-inference\",\n",
      "            \"registryId\": \"558105141721\",\n",
      "            \"repositoryName\": \"sagemaker-text-generation-inference\",\n",
      "            \"repositoryUri\": \"558105141721.dkr.ecr.us-east-1.amazonaws.com/sagemaker-text-generation-inference\",\n",
      "            \"createdAt\": \"2023-02-28T15:44:23+01:00\",\n",
      "            \"imageTagMutability\": \"MUTABLE\",\n",
      "            \"imageScanningConfiguration\": {\n",
      "                \"scanOnPush\": false\n",
      "            },\n",
      "            \"encryptionConfiguration\": {\n",
      "                \"encryptionType\": \"AES256\"\n",
      "            }\n",
      "        }\n",
      "    ]\n",
      "}\n",
      "./create_ecr_container.sh: line 23: Tag: command not found\n",
      "Tagging image ghcr.io/huggingface/text-generation-inference:sagemaker-sha-4b5e36d as 558105141721.dkr.ecr.us-east-1.amazonaws.com/sagemaker-text-generation-inference:latest...\n",
      "Pushing image to ECR...\n",
      "The push refers to repository [558105141721.dkr.ecr.us-east-1.amazonaws.com/sagemaker-text-generation-inference]\n",
      "\n",
      "\u001b[1B19a0f855: Preparing \n",
      "\u001b[1B1e52ef27: Preparing \n",
      "\u001b[1B464fb290: Preparing \n",
      "\u001b[1B03571427: Preparing \n",
      "\u001b[1B4c22adc8: Preparing \n",
      "\u001b[1Bc1eb1d1f: Preparing \n",
      "\u001b[1B31192f24: Preparing \n",
      "\u001b[1Be2be6100: Preparing \n",
      "\u001b[1Bbf18a086: Preparing \n",
      "\u001b[1Bb268ea3b: Preparing \n",
      "\u001b[1B2253e5ca: Preparing \n",
      "\u001b[1B9e83e652: Preparing \n",
      "\u001b[1B8f4121e3: Preparing \n",
      "\u001b[1Bac953428: Preparing \n",
      "\u001b[1B89f48870: Preparing \n",
      "\u001b[1Bd7cd1026: Preparing \n",
      "\u001b[1Bf5c5948a: Preparing \n",
      "\u001b[1B06a133b8: Preparing \n",
      "\u001b[1B1c199f2f: Preparing \n",
      "\u001b[1Bd1f80fca: Preparing \n",
      "\u001b[1Bf0edb23d: Preparing \n",
      "\u001b[17B1eb1d1f: Pushing    197MB/249MBGB\u001b[19A\u001b[2K\u001b[19A\u001b[2K\u001b[19A\u001b[2K\u001b[22A\u001b[2K\u001b[22A\u001b[2K\u001b[22A\u001b[2K\u001b[22A\u001b[2K\u001b[21A\u001b[2K\u001b[18A\u001b[2K\u001b[20A\u001b[2K\u001b[21A\u001b[2K\u001b[20A\u001b[2K\u001b[21A\u001b[2K\u001b[20A\u001b[2K\u001b[21A\u001b[2K\u001b[20A\u001b[2K\u001b[21A\u001b[2K\u001b[20A\u001b[2K\u001b[21A\u001b[2K\u001b[20A\u001b[2K\u001b[21A\u001b[2K\u001b[17A\u001b[2K\u001b[20A\u001b[2K\u001b[21A\u001b[2K\u001b[17A\u001b[2K\u001b[20A\u001b[2K\u001b[21A\u001b[2K\u001b[22A\u001b[2K\u001b[20A\u001b[2K\u001b[16A\u001b[2K\u001b[17A\u001b[2K\u001b[17A\u001b[2K\u001b[16A\u001b[2K\u001b[20A\u001b[2K\u001b[21A\u001b[2K\u001b[15A\u001b[2K\u001b[20A\u001b[2K\u001b[21A\u001b[2K\u001b[16A\u001b[2K\u001b[20A\u001b[2K\u001b[16A\u001b[2K\u001b[20A\u001b[2K\u001b[21A\u001b[2K\u001b[16A\u001b[2K\u001b[21A\u001b[2K\u001b[20A\u001b[2K\u001b[16A\u001b[2K\u001b[21A\u001b[2K\u001b[20A\u001b[2K\u001b[16A\u001b[2K\u001b[21A\u001b[2K\u001b[16A\u001b[2K\u001b[20A\u001b[2K\u001b[21A\u001b[2K\u001b[20A\u001b[2K\u001b[16A\u001b[2K\u001b[21A\u001b[2K\u001b[14A\u001b[2K\u001b[16A\u001b[2K\u001b[21A\u001b[2K\u001b[20A\u001b[2K\u001b[17A\u001b[2K\u001b[16A\u001b[2K\u001b[21A\u001b[2K\u001b[16A\u001b[2K\u001b[17A\u001b[2K\u001b[16A\u001b[2K\u001b[20A\u001b[2K\u001b[16A\u001b[2K\u001b[17A\u001b[2K\u001b[14A\u001b[2K\u001b[16A\u001b[2K\u001b[21A\u001b[2K\u001b[16A\u001b[2K\u001b[17A\u001b[2K\u001b[16A\u001b[2K\u001b[20A\u001b[2K\u001b[16A\u001b[2K\u001b[13A\u001b[2K\u001b[20A\u001b[2K\u001b[13A\u001b[2K\u001b[16A\u001b[2K\u001b[13A\u001b[2K\u001b[17A\u001b[2K\u001b[13A\u001b[2K\u001b[17A\u001b[2K\u001b[20A\u001b[2K\u001b[16A\u001b[2K\u001b[17A\u001b[2K\u001b[21A\u001b[2K\u001b[16A\u001b[2K\u001b[13A\u001b[2K\u001b[20A\u001b[2K\u001b[13A\u001b[2K\u001b[16A\u001b[2K\u001b[17A\u001b[2K\u001b[16A\u001b[2K\u001b[20A\u001b[2K\u001b[12A\u001b[2K\u001b[16A\u001b[2K\u001b[12A\u001b[2K\u001b[17A\u001b[2K\u001b[12A\u001b[2K\u001b[13A\u001b[2K\u001b[12A\u001b[2K\u001b[20A\u001b[2K\u001b[16A\u001b[2K\u001b[13A\u001b[2K\u001b[17A\u001b[2K\u001b[12A\u001b[2K\u001b[16A\u001b[2K\u001b[17A\u001b[2K\u001b[20A\u001b[2K\u001b[12A\u001b[2K\u001b[13A\u001b[2K\u001b[17A\u001b[2K\u001b[12A\u001b[2K\u001b[13A\u001b[2K\u001b[13A\u001b[2K\u001b[20A\u001b[2K\u001b[12A\u001b[2K\u001b[16A\u001b[2K\u001b[13A\u001b[2K\u001b[17A\u001b[2K\u001b[12A\u001b[2K\u001b[20A\u001b[2K\u001b[12A\u001b[2K\u001b[13A\u001b[2K\u001b[17A\u001b[2K\u001b[12A\u001b[2K\u001b[20A\u001b[2K\u001b[13A\u001b[2K\u001b[12A\u001b[2K\u001b[12A\u001b[2K\u001b[13A\u001b[2K\u001b[13A\u001b[2K\u001b[12A\u001b[2K\u001b[20A\u001b[2K\u001b[12A\u001b[2K\u001b[13A\u001b[2K\u001b[12A\u001b[2K\u001b[20A\u001b[2K\u001b[13A\u001b[2K\u001b[12A\u001b[2K\u001b[20A\u001b[2K\u001b[12A\u001b[2K\u001b[13A\u001b[2K\u001b[12A\u001b[2K\u001b[13A\u001b[2K\u001b[20A\u001b[2K\u001b[12A\u001b[2K\u001b[12A\u001b[2K\u001b[20A\u001b[2K\u001b[12A\u001b[2K\u001b[12A\u001b[2K\u001b[13A\u001b[2K\u001b[16A\u001b[2K\u001b[13A\u001b[2K\u001b[17A\u001b[2K\u001b[16A\u001b[2K\u001b[13A\u001b[2K\u001b[17A\u001b[2K\u001b[20A\u001b[2K\u001b[17A\u001b[2K\u001b[16A\u001b[2K\u001b[13A\u001b[2K\u001b[20A\u001b[2K\u001b[16A\u001b[2K\u001b[17A\u001b[2K\u001b[20A\u001b[2K\u001b[17A\u001b[2K\u001b[16A\u001b[2K\u001b[12A\u001b[2K\u001b[17A\u001b[2K\u001b[16A\u001b[2K\u001b[17A\u001b[2K\u001b[16A\u001b[2K\u001b[13A\u001b[2K\u001b[20A\u001b[2K\u001b[11A\u001b[2K\u001b[11A\u001b[2K\u001b[13A\u001b[2K\u001b[20A\u001b[2K\u001b[17A\u001b[2K\u001b[20A\u001b[2K\u001b[16A\u001b[2K\u001b[17A\u001b[2K\u001b[13A\u001b[2K\u001b[20A\u001b[2K\u001b[16A\u001b[2K\u001b[13A\u001b[2K\u001b[17A\u001b[2K\u001b[20A\u001b[2K\u001b[16A\u001b[2K\u001b[11A\u001b[2K\u001b[13A\u001b[2K\u001b[16A\u001b[2K\u001b[20A\u001b[2K\u001b[13A\u001b[2K\u001b[16A\u001b[2K\u001b[20A\u001b[2K\u001b[13A\u001b[2K\u001b[17A\u001b[2K\u001b[16A\u001b[2K\u001b[20A\u001b[2K\u001b[17A\u001b[2K\u001b[13A\u001b[2K\u001b[10A\u001b[2K\u001b[16A\u001b[2K\u001b[10A\u001b[2K\u001b[10A\u001b[2K\u001b[13A\u001b[2K\u001b[10A\u001b[2K\u001b[17A\u001b[2K\u001b[16A\u001b[2K\u001b[20A\u001b[2K\u001b[13A\u001b[2K\u001b[10A\u001b[2K\u001b[16A\u001b[2K\u001b[13A\u001b[2K\u001b[16A\u001b[2K\u001b[13A\u001b[2K\u001b[20A\u001b[2K\u001b[10A\u001b[2K\u001b[10A\u001b[2K\u001b[16A\u001b[2K\u001b[13A\u001b[2K\u001b[20A\u001b[2K\u001b[10A\u001b[2K\u001b[16A\u001b[2K\u001b[17A\u001b[2K\u001b[13A\u001b[2K\u001b[20A\u001b[2K\u001b[17A\u001b[2K\u001b[10A\u001b[2K\u001b[16A\u001b[2K\u001b[13A\u001b[2K\u001b[20A\u001b[2K\u001b[17A\u001b[2K\u001b[10A\u001b[2K\u001b[13A\u001b[2K\u001b[17A\u001b[2K\u001b[20A\u001b[2K\u001b[13A\u001b[2K\u001b[17A\u001b[2K\u001b[10A\u001b[2K\u001b[20A\u001b[2K\u001b[17A\u001b[2K\u001b[13A\u001b[2K\u001b[17A\u001b[2K\u001b[10A\u001b[2K\u001b[16A\u001b[2K\u001b[13A\u001b[2K\u001b[10A\u001b[2K\u001b[16A\u001b[2K\u001b[20A\u001b[2K\u001b[10A\u001b[2K\u001b[16A\u001b[2K\u001b[13A\u001b[2K\u001b[10A\u001b[2K\u001b[20A\u001b[2K\u001b[16A\u001b[2K\u001b[10A\u001b[2K\u001b[20A\u001b[2K\u001b[17A\u001b[2K\u001b[10A\u001b[2K\u001b[16A\u001b[2K\u001b[20A\u001b[2K\u001b[10A\u001b[2K\u001b[17A\u001b[2K\u001b[13A\u001b[2K\u001b[16A\u001b[2K\u001b[20A\u001b[2K\u001b[17A\u001b[2K\u001b[16A\u001b[2K\u001b[20A\u001b[2K\u001b[10A\u001b[2K\u001b[13A\u001b[2K\u001b[10A\u001b[2K\u001b[16A\u001b[2K\u001b[17A\u001b[2K\u001b[16A\u001b[2K\u001b[17A\u001b[2K\u001b[20A\u001b[2K\u001b[10A\u001b[2K\u001b[16A\u001b[2K\u001b[20A\u001b[2K\u001b[16A\u001b[2K\u001b[10A\u001b[2K\u001b[20A\u001b[2K\u001b[17A\u001b[2K\u001b[10A\u001b[2K\u001b[16A\u001b[2K\u001b[17A\u001b[2K\u001b[13A\u001b[2K\u001b[10A\u001b[2K\u001b[13A\u001b[2K\u001b[10A\u001b[2K\u001b[16A\u001b[2K\u001b[10A\u001b[2K\u001b[16A\u001b[2K\u001b[17A\u001b[2K\u001b[16A\u001b[2K\u001b[20A\u001b[2K\u001b[17A\u001b[2K\u001b[16A\u001b[2K\u001b[10A\u001b[2K\u001b[13A\u001b[2K\u001b[17A\u001b[2K\u001b[16A\u001b[2K\u001b[10A\u001b[2K\u001b[20A\u001b[2K\u001b[16A\u001b[2K\u001b[10A\u001b[2K\u001b[20A\u001b[2K\u001b[10A\u001b[2K\u001b[16A\u001b[2K\u001b[17A\u001b[2K\u001b[13A\u001b[2K\u001b[16A\u001b[2K\u001b[17A\u001b[2K\u001b[10A\u001b[2K\u001b[20A\u001b[2K\u001b[10A\u001b[2K\u001b[16A\u001b[2K\u001b[17A\u001b[2K\u001b[10A\u001b[2K\u001b[20A\u001b[2K\u001b[17A\u001b[2K\u001b[16A\u001b[2K\u001b[13A\u001b[2K\u001b[20A\u001b[2K\u001b[17A\u001b[2K\u001b[16A\u001b[2K\u001b[13A\u001b[2K\u001b[10A\u001b[2K\u001b[20A\u001b[2K\u001b[10A\u001b[2K\u001b[20A\u001b[2K\u001b[13A\u001b[2K\u001b[16A\u001b[2K\u001b[20A\u001b[2K\u001b[10A\u001b[2K\u001b[17A\u001b[2K\u001b[20A\u001b[2K\u001b[10A\u001b[2K\u001b[13A\u001b[2K\u001b[16A\u001b[2K\u001b[20A\u001b[2K\u001b[10A\u001b[2K\u001b[13A\u001b[2K\u001b[16A\u001b[2K\u001b[17A\u001b[2K\u001b[20A\u001b[2K\u001b[10A\u001b[2K\u001b[13A\u001b[2K\u001b[16A\u001b[2K\u001b[17A\u001b[2K\u001b[10A\u001b[2K\u001b[20A\u001b[2K\u001b[13A\u001b[2K\u001b[17A\u001b[2K\u001b[16A\u001b[2K\u001b[20A\u001b[2K\u001b[13A\u001b[2K\u001b[10A\u001b[2K\u001b[17A\u001b[2K\u001b[20A\u001b[2K\u001b[10A\u001b[2K\u001b[16A\u001b[2K\u001b[20A\u001b[2K\u001b[10A\u001b[2K\u001b[13A\u001b[2K\u001b[10A\u001b[2K\u001b[20A\u001b[2K\u001b[10A\u001b[2K\u001b[16A\u001b[2K\u001b[13A\u001b[2K\u001b[16A\u001b[2K\u001b[20A\u001b[2K\u001b[17A\u001b[2K\u001b[16A\u001b[2K\u001b[17A\u001b[2K\u001b[17A\u001b[2K\u001b[16A\u001b[2K\u001b[13A\u001b[2K\u001b[17A\u001b[2K\u001b[13A\u001b[2K\u001b[20A\u001b[2K\u001b[10A\u001b[2K\u001b[20A\u001b[2K\u001b[16A\u001b[2K\u001b[10A\u001b[2K\u001b[20A\u001b[2K\u001b[13A\u001b[2K\u001b[16A\u001b[2K\u001b[10A\u001b[2K\u001b[17A\u001b[2K\u001b[10A\u001b[2K\u001b[13A\u001b[2K\u001b[20A\u001b[2K\u001b[16A\u001b[2K\u001b[13A\u001b[2K\u001b[10A\u001b[2K\u001b[16A\u001b[2K\u001b[20A\u001b[2K\u001b[13A\u001b[2K\u001b[10A\u001b[2K\u001b[17A\u001b[2K\u001b[13A\u001b[2K\u001b[20A\u001b[2K\u001b[10A\u001b[2K\u001b[16A\u001b[2K\u001b[17A\u001b[2K\u001b[13A\u001b[2K\u001b[20A\u001b[2K\u001b[10A\u001b[2K\u001b[17A\u001b[2K\u001b[13A\u001b[2K\u001b[16A\u001b[2K\u001b[10A\u001b[2K\u001b[13A\u001b[2K\u001b[20A\u001b[2K\u001b[16A\u001b[2K\u001b[10A\u001b[2K\u001b[17A\u001b[2K\u001b[13A\u001b[2K\u001b[20A\u001b[2K\u001b[16A\u001b[2K\u001b[10A\u001b[2K\u001b[17A\u001b[2K\u001b[13A\u001b[2K\u001b[10A\u001b[2K\u001b[16A\u001b[2K\u001b[20A\u001b[2K\u001b[17A\u001b[2K\u001b[13A\u001b[2K\u001b[16A\u001b[2K\u001b[10A\u001b[2K\u001b[13A\u001b[2K\u001b[17A\u001b[2K\u001b[16A\u001b[2K\u001b[10A\u001b[2K\u001b[20A\u001b[2K\u001b[13A\u001b[2K\u001b[10A\u001b[2K\u001b[16A\u001b[2K\u001b[20A\u001b[2K\u001b[13A\u001b[2K\u001b[10A\u001b[2K\u001b[17A\u001b[2K\u001b[13A\u001b[2K\u001b[20A\u001b[2K\u001b[10A\u001b[2K\u001b[17A\u001b[2K\u001b[13A\u001b[2K\u001b[17A\u001b[2K\u001b[20A\u001b[2K\u001b[17A\u001b[2K\u001b[13A\u001b[2K\u001b[10A\u001b[2K\u001b[17A\u001b[2K\u001b[20A\u001b[2K\u001b[10A\u001b[2K\u001b[17A\u001b[2K\u001b[20A\u001b[2K\u001b[10A\u001b[2K\u001b[17A\u001b[2K\u001b[10A\u001b[2K\u001b[16A\u001b[2K\u001b[13A\u001b[2K\u001b[10A\u001b[2K\u001b[16A\u001b[2K\u001b[20A\u001b[2K\u001b[10A\u001b[2K\u001b[17A\u001b[2K\u001b[16A\u001b[2K\u001b[20A\u001b[2K\u001b[10A\u001b[2K\u001b[13A\u001b[2K\u001b[16A\u001b[2K\u001b[20A\u001b[2K\u001b[13A\u001b[2K\u001b[17A\u001b[2K\u001b[16A\u001b[2K\u001b[20A\u001b[2K\u001b[17A\u001b[2K\u001b[16A\u001b[2K\u001b[13A\u001b[2K\u001b[20A\u001b[2K\u001b[17A\u001b[2K"
     ]
    }
   ],
   "source": [
    "image_uri = \"ghcr.io/huggingface/text-generation-inference:sagemaker-sha-4b5e36d\"\n",
    "account_id = sess.account_id()\n",
    "region = sess.boto_region_name\n",
    "\n",
    "!chmod +x create_ecr_container.sh\n",
    "!./create_ecr_container.sh {image_uri} {account_id} {region}\n",
    "\n",
    "image_uri = f\"{account_id}.dkr.ecr.{region}.amazonaws.com/sagemaker-text-generation-inference:latest\""
   ]
  },
  {
   "cell_type": "code",
   "execution_count": 34,
   "metadata": {},
   "outputs": [
    {
     "name": "stdout",
     "output_type": "stream",
     "text": [
      "Pulling base image ghcr.io/huggingface/text-generation-inference:sagemaker-sha-4b5e36d...\n",
      "Logging in to Amazon ECR...\n",
      "Login Succeeded\n",
      "\n",
      "Logging in with your password grants your terminal complete access to your account. \n",
      "For better security, log in with a limited-privilege personal access token. Learn more at https://docs.docker.com/go/access-tokens/\n",
      "Creating ECR repository sagemaker-text-generation-inference...\n",
      "\n",
      "An error occurred (RepositoryNotFoundException) when calling the DescribeRepositories operation: The repository with name 'sagemaker-text-generation-inference' does not exist in the registry with id '558105141721'\n",
      "{\n",
      "    \"repository\": {\n",
      "        \"repositoryArn\": \"arn:aws:ecr:us-east-1:558105141721:repository/sagemaker-text-generation-inference\",\n",
      "        \"registryId\": \"558105141721\",\n",
      "        \"repositoryName\": \"sagemaker-text-generation-inference\",\n",
      "        \"repositoryUri\": \"558105141721.dkr.ecr.us-east-1.amazonaws.com/sagemaker-text-generation-inference\",\n",
      "        \"createdAt\": \"2023-02-28T15:44:23+01:00\",\n",
      "        \"imageTagMutability\": \"MUTABLE\",\n",
      "        \"imageScanningConfiguration\": {\n",
      "            \"scanOnPush\": false\n",
      "        },\n",
      "        \"encryptionConfiguration\": {\n",
      "            \"encryptionType\": \"AES256\"\n",
      "        }\n",
      "    }\n",
      "}\n"
     ]
    }
   ],
   "source": [
    "# text-generation-inference container image uri\n",
    "image_uri=\"\""
   ]
  },
  {
   "attachments": {},
   "cell_type": "markdown",
   "metadata": {},
   "source": [
    "To deploy BLOOM to Amazon SageMaker we need to create a `HuggingFaceModel` model class and define our endpoint configuration including the `hf_model_id`, `instance_type` etc. . We will use a `p4d.24xlarge` instance type with quantization enabled to deploy BLOOM."
   ]
  },
  {
   "cell_type": "code",
   "execution_count": 25,
   "metadata": {},
   "outputs": [],
   "source": [
    "from sagemaker.huggingface import HuggingFaceModel\n",
    "\n",
    "# Define Model and Endpoint configuration parameter\n",
    "hf_model_id = \"bigscience/bloom\" # model id from huggingface.co/models\n",
    "use_quantized_model = True # wether to use quantization or not\n",
    "instance_type = \"ml.p4d.24xlarge\" # instance type to use for deployment\n",
    "number_of_gpu = 8 # number of gpus to use for inference and tensor parallelism\n",
    "volume_size = 400 # Adds EBS volume to the instance with the given size in GB\n",
    "health_check_timeout = 600 # Increase the timeout for the health check to 10 minutes\n",
    "\n",
    "# create HuggingFaceModel with the image uri\n",
    "bloom_model = HuggingFaceModel(\n",
    "  role=role,\n",
    "  image_uri=image_uri,\n",
    "  env={\n",
    "    'HF_MODEL_ID': hf_model_id,\n",
    "    'HF_MODEL_QUANTIZE': str(use_quantized_model),\n",
    "    'SM_NUM_GPUS': str(number_of_gpu),\n",
    "  }\n",
    ")  "
   ]
  },
  {
   "attachments": {},
   "cell_type": "markdown",
   "metadata": {},
   "source": [
    "After we have created the `HuggingFaceModel` we can deploy it to Amazon SageMaker using the `deploy` method. We will deploy the model with the `ml.p4d.24xlarge` instance type. This instance type is required to run BLOOM 176B using int8 quantization. You can find more information about the instance types [here](https://aws.amazon.com/sagemaker/pricing/instance-types/)."
   ]
  },
  {
   "cell_type": "code",
   "execution_count": 26,
   "metadata": {},
   "outputs": [
    {
     "ename": "ClientError",
     "evalue": "An error occurred (ValidationException) when calling the CreateModel operation: Using non-ECR image \"ghcr.io/huggingface/text-generation-inference:sagemaker-sha-4b5e36d\" without Vpc repository access mode is not supported.",
     "output_type": "error",
     "traceback": [
      "\u001b[0;31m---------------------------------------------------------------------------\u001b[0m",
      "\u001b[0;31mClientError\u001b[0m                               Traceback (most recent call last)",
      "\u001b[0;32m/var/folders/qt/wszh_95953qc0znj82hjxs5m0000gn/T/ipykernel_234/552559735.py\u001b[0m in \u001b[0;36m<module>\u001b[0;34m\u001b[0m\n\u001b[1;32m      1\u001b[0m \u001b[0;31m# Deploy model to an endpoint\u001b[0m\u001b[0;34m\u001b[0m\u001b[0;34m\u001b[0m\u001b[0;34m\u001b[0m\u001b[0m\n\u001b[1;32m      2\u001b[0m \u001b[0;31m# https://sagemaker.readthedocs.io/en/stable/api/inference/model.html#sagemaker.model.Model.deploy\u001b[0m\u001b[0;34m\u001b[0m\u001b[0;34m\u001b[0m\u001b[0;34m\u001b[0m\u001b[0m\n\u001b[0;32m----> 3\u001b[0;31m predictor = bloom_model.deploy(\n\u001b[0m\u001b[1;32m      4\u001b[0m   \u001b[0minitial_instance_count\u001b[0m\u001b[0;34m=\u001b[0m\u001b[0;36m1\u001b[0m\u001b[0;34m,\u001b[0m\u001b[0;34m\u001b[0m\u001b[0;34m\u001b[0m\u001b[0m\n\u001b[1;32m      5\u001b[0m   \u001b[0minstance_type\u001b[0m\u001b[0;34m=\u001b[0m\u001b[0minstance_type\u001b[0m\u001b[0;34m,\u001b[0m\u001b[0;34m\u001b[0m\u001b[0;34m\u001b[0m\u001b[0m\n",
      "\u001b[0;32m/opt/homebrew/Caskroom/miniforge/base/envs/hf/lib/python3.8/site-packages/sagemaker/huggingface/model.py\u001b[0m in \u001b[0;36mdeploy\u001b[0;34m(self, initial_instance_count, instance_type, serializer, deserializer, accelerator_type, endpoint_name, tags, kms_key, wait, data_capture_config, async_inference_config, serverless_inference_config, volume_size, model_data_download_timeout, container_startup_health_check_timeout, inference_recommendation_id, **kwargs)\u001b[0m\n\u001b[1;32m    306\u001b[0m             )\n\u001b[1;32m    307\u001b[0m \u001b[0;34m\u001b[0m\u001b[0m\n\u001b[0;32m--> 308\u001b[0;31m         return super(HuggingFaceModel, self).deploy(\n\u001b[0m\u001b[1;32m    309\u001b[0m             \u001b[0minitial_instance_count\u001b[0m\u001b[0;34m,\u001b[0m\u001b[0;34m\u001b[0m\u001b[0;34m\u001b[0m\u001b[0m\n\u001b[1;32m    310\u001b[0m             \u001b[0minstance_type\u001b[0m\u001b[0;34m,\u001b[0m\u001b[0;34m\u001b[0m\u001b[0;34m\u001b[0m\u001b[0m\n",
      "\u001b[0;32m/opt/homebrew/Caskroom/miniforge/base/envs/hf/lib/python3.8/site-packages/sagemaker/model.py\u001b[0m in \u001b[0;36mdeploy\u001b[0;34m(self, initial_instance_count, instance_type, serializer, deserializer, accelerator_type, endpoint_name, tags, kms_key, wait, data_capture_config, async_inference_config, serverless_inference_config, volume_size, model_data_download_timeout, container_startup_health_check_timeout, inference_recommendation_id, **kwargs)\u001b[0m\n\u001b[1;32m   1181\u001b[0m                 \u001b[0mself\u001b[0m\u001b[0;34m.\u001b[0m\u001b[0m_base_name\u001b[0m \u001b[0;34m=\u001b[0m \u001b[0;34m\"-\"\u001b[0m\u001b[0;34m.\u001b[0m\u001b[0mjoin\u001b[0m\u001b[0;34m(\u001b[0m\u001b[0;34m(\u001b[0m\u001b[0mself\u001b[0m\u001b[0;34m.\u001b[0m\u001b[0m_base_name\u001b[0m\u001b[0;34m,\u001b[0m \u001b[0mcompiled_model_suffix\u001b[0m\u001b[0;34m)\u001b[0m\u001b[0;34m)\u001b[0m\u001b[0;34m\u001b[0m\u001b[0;34m\u001b[0m\u001b[0m\n\u001b[1;32m   1182\u001b[0m \u001b[0;34m\u001b[0m\u001b[0m\n\u001b[0;32m-> 1183\u001b[0;31m         self._create_sagemaker_model(\n\u001b[0m\u001b[1;32m   1184\u001b[0m             \u001b[0minstance_type\u001b[0m\u001b[0;34m,\u001b[0m \u001b[0maccelerator_type\u001b[0m\u001b[0;34m,\u001b[0m \u001b[0mtags\u001b[0m\u001b[0;34m,\u001b[0m \u001b[0mserverless_inference_config\u001b[0m\u001b[0;34m\u001b[0m\u001b[0;34m\u001b[0m\u001b[0m\n\u001b[1;32m   1185\u001b[0m         )\n",
      "\u001b[0;32m/opt/homebrew/Caskroom/miniforge/base/envs/hf/lib/python3.8/site-packages/sagemaker/model.py\u001b[0m in \u001b[0;36m_create_sagemaker_model\u001b[0;34m(self, instance_type, accelerator_type, tags, serverless_inference_config)\u001b[0m\n\u001b[1;32m    686\u001b[0m             \u001b[0mtags\u001b[0m\u001b[0;34m=\u001b[0m\u001b[0mtags\u001b[0m\u001b[0;34m,\u001b[0m\u001b[0;34m\u001b[0m\u001b[0;34m\u001b[0m\u001b[0m\n\u001b[1;32m    687\u001b[0m         )\n\u001b[0;32m--> 688\u001b[0;31m         \u001b[0mself\u001b[0m\u001b[0;34m.\u001b[0m\u001b[0msagemaker_session\u001b[0m\u001b[0;34m.\u001b[0m\u001b[0mcreate_model\u001b[0m\u001b[0;34m(\u001b[0m\u001b[0;34m**\u001b[0m\u001b[0mcreate_model_args\u001b[0m\u001b[0;34m)\u001b[0m\u001b[0;34m\u001b[0m\u001b[0;34m\u001b[0m\u001b[0m\n\u001b[0m\u001b[1;32m    689\u001b[0m \u001b[0;34m\u001b[0m\u001b[0m\n\u001b[1;32m    690\u001b[0m     \u001b[0;32mdef\u001b[0m \u001b[0m_ensure_base_name_if_needed\u001b[0m\u001b[0;34m(\u001b[0m\u001b[0mself\u001b[0m\u001b[0;34m,\u001b[0m \u001b[0mimage_uri\u001b[0m\u001b[0;34m,\u001b[0m \u001b[0mscript_uri\u001b[0m\u001b[0;34m,\u001b[0m \u001b[0mmodel_uri\u001b[0m\u001b[0;34m)\u001b[0m\u001b[0;34m:\u001b[0m\u001b[0;34m\u001b[0m\u001b[0;34m\u001b[0m\u001b[0m\n",
      "\u001b[0;32m/opt/homebrew/Caskroom/miniforge/base/envs/hf/lib/python3.8/site-packages/sagemaker/session.py\u001b[0m in \u001b[0;36mcreate_model\u001b[0;34m(self, name, role, container_defs, vpc_config, enable_network_isolation, primary_container, tags)\u001b[0m\n\u001b[1;32m   3055\u001b[0m                     \u001b[0;32mraise\u001b[0m\u001b[0;34m\u001b[0m\u001b[0;34m\u001b[0m\u001b[0m\n\u001b[1;32m   3056\u001b[0m \u001b[0;34m\u001b[0m\u001b[0m\n\u001b[0;32m-> 3057\u001b[0;31m         \u001b[0mself\u001b[0m\u001b[0;34m.\u001b[0m\u001b[0m_intercept_create_request\u001b[0m\u001b[0;34m(\u001b[0m\u001b[0mcreate_model_request\u001b[0m\u001b[0;34m,\u001b[0m \u001b[0msubmit\u001b[0m\u001b[0;34m,\u001b[0m \u001b[0mself\u001b[0m\u001b[0;34m.\u001b[0m\u001b[0mcreate_model\u001b[0m\u001b[0;34m.\u001b[0m\u001b[0m__name__\u001b[0m\u001b[0;34m)\u001b[0m\u001b[0;34m\u001b[0m\u001b[0;34m\u001b[0m\u001b[0m\n\u001b[0m\u001b[1;32m   3058\u001b[0m         \u001b[0;32mreturn\u001b[0m \u001b[0mname\u001b[0m\u001b[0;34m\u001b[0m\u001b[0;34m\u001b[0m\u001b[0m\n\u001b[1;32m   3059\u001b[0m \u001b[0;34m\u001b[0m\u001b[0m\n",
      "\u001b[0;32m/opt/homebrew/Caskroom/miniforge/base/envs/hf/lib/python3.8/site-packages/sagemaker/session.py\u001b[0m in \u001b[0;36m_intercept_create_request\u001b[0;34m(self, request, create, func_name)\u001b[0m\n\u001b[1;32m   4811\u001b[0m             \u001b[0mfunc_name\u001b[0m \u001b[0;34m(\u001b[0m\u001b[0mstr\u001b[0m\u001b[0;34m)\u001b[0m\u001b[0;34m:\u001b[0m \u001b[0mthe\u001b[0m \u001b[0mname\u001b[0m \u001b[0mof\u001b[0m \u001b[0mthe\u001b[0m \u001b[0mfunction\u001b[0m \u001b[0mneeded\u001b[0m \u001b[0mintercepting\u001b[0m\u001b[0;34m\u001b[0m\u001b[0;34m\u001b[0m\u001b[0m\n\u001b[1;32m   4812\u001b[0m         \"\"\"\n\u001b[0;32m-> 4813\u001b[0;31m         \u001b[0;32mreturn\u001b[0m \u001b[0mcreate\u001b[0m\u001b[0;34m(\u001b[0m\u001b[0mrequest\u001b[0m\u001b[0;34m)\u001b[0m\u001b[0;34m\u001b[0m\u001b[0;34m\u001b[0m\u001b[0m\n\u001b[0m\u001b[1;32m   4814\u001b[0m \u001b[0;34m\u001b[0m\u001b[0m\n\u001b[1;32m   4815\u001b[0m     def _create_inference_recommendations_job_request(\n",
      "\u001b[0;32m/opt/homebrew/Caskroom/miniforge/base/envs/hf/lib/python3.8/site-packages/sagemaker/session.py\u001b[0m in \u001b[0;36msubmit\u001b[0;34m(request)\u001b[0m\n\u001b[1;32m   3043\u001b[0m             \u001b[0mLOGGER\u001b[0m\u001b[0;34m.\u001b[0m\u001b[0mdebug\u001b[0m\u001b[0;34m(\u001b[0m\u001b[0;34m\"CreateModel request: %s\"\u001b[0m\u001b[0;34m,\u001b[0m \u001b[0mjson\u001b[0m\u001b[0;34m.\u001b[0m\u001b[0mdumps\u001b[0m\u001b[0;34m(\u001b[0m\u001b[0mrequest\u001b[0m\u001b[0;34m,\u001b[0m \u001b[0mindent\u001b[0m\u001b[0;34m=\u001b[0m\u001b[0;36m4\u001b[0m\u001b[0;34m)\u001b[0m\u001b[0;34m)\u001b[0m\u001b[0;34m\u001b[0m\u001b[0;34m\u001b[0m\u001b[0m\n\u001b[1;32m   3044\u001b[0m             \u001b[0;32mtry\u001b[0m\u001b[0;34m:\u001b[0m\u001b[0;34m\u001b[0m\u001b[0;34m\u001b[0m\u001b[0m\n\u001b[0;32m-> 3045\u001b[0;31m                 \u001b[0mself\u001b[0m\u001b[0;34m.\u001b[0m\u001b[0msagemaker_client\u001b[0m\u001b[0;34m.\u001b[0m\u001b[0mcreate_model\u001b[0m\u001b[0;34m(\u001b[0m\u001b[0;34m**\u001b[0m\u001b[0mrequest\u001b[0m\u001b[0;34m)\u001b[0m\u001b[0;34m\u001b[0m\u001b[0;34m\u001b[0m\u001b[0m\n\u001b[0m\u001b[1;32m   3046\u001b[0m             \u001b[0;32mexcept\u001b[0m \u001b[0mClientError\u001b[0m \u001b[0;32mas\u001b[0m \u001b[0me\u001b[0m\u001b[0;34m:\u001b[0m\u001b[0;34m\u001b[0m\u001b[0;34m\u001b[0m\u001b[0m\n\u001b[1;32m   3047\u001b[0m                 \u001b[0merror_code\u001b[0m \u001b[0;34m=\u001b[0m \u001b[0me\u001b[0m\u001b[0;34m.\u001b[0m\u001b[0mresponse\u001b[0m\u001b[0;34m[\u001b[0m\u001b[0;34m\"Error\"\u001b[0m\u001b[0;34m]\u001b[0m\u001b[0;34m[\u001b[0m\u001b[0;34m\"Code\"\u001b[0m\u001b[0;34m]\u001b[0m\u001b[0;34m\u001b[0m\u001b[0;34m\u001b[0m\u001b[0m\n",
      "\u001b[0;32m/opt/homebrew/Caskroom/miniforge/base/envs/hf/lib/python3.8/site-packages/botocore/client.py\u001b[0m in \u001b[0;36m_api_call\u001b[0;34m(self, *args, **kwargs)\u001b[0m\n\u001b[1;32m    528\u001b[0m                 )\n\u001b[1;32m    529\u001b[0m             \u001b[0;31m# The \"self\" in this scope is referring to the BaseClient.\u001b[0m\u001b[0;34m\u001b[0m\u001b[0;34m\u001b[0m\u001b[0;34m\u001b[0m\u001b[0m\n\u001b[0;32m--> 530\u001b[0;31m             \u001b[0;32mreturn\u001b[0m \u001b[0mself\u001b[0m\u001b[0;34m.\u001b[0m\u001b[0m_make_api_call\u001b[0m\u001b[0;34m(\u001b[0m\u001b[0moperation_name\u001b[0m\u001b[0;34m,\u001b[0m \u001b[0mkwargs\u001b[0m\u001b[0;34m)\u001b[0m\u001b[0;34m\u001b[0m\u001b[0;34m\u001b[0m\u001b[0m\n\u001b[0m\u001b[1;32m    531\u001b[0m \u001b[0;34m\u001b[0m\u001b[0m\n\u001b[1;32m    532\u001b[0m         \u001b[0m_api_call\u001b[0m\u001b[0;34m.\u001b[0m\u001b[0m__name__\u001b[0m \u001b[0;34m=\u001b[0m \u001b[0mstr\u001b[0m\u001b[0;34m(\u001b[0m\u001b[0mpy_operation_name\u001b[0m\u001b[0;34m)\u001b[0m\u001b[0;34m\u001b[0m\u001b[0;34m\u001b[0m\u001b[0m\n",
      "\u001b[0;32m/opt/homebrew/Caskroom/miniforge/base/envs/hf/lib/python3.8/site-packages/botocore/client.py\u001b[0m in \u001b[0;36m_make_api_call\u001b[0;34m(self, operation_name, api_params)\u001b[0m\n\u001b[1;32m    958\u001b[0m             \u001b[0merror_code\u001b[0m \u001b[0;34m=\u001b[0m \u001b[0mparsed_response\u001b[0m\u001b[0;34m.\u001b[0m\u001b[0mget\u001b[0m\u001b[0;34m(\u001b[0m\u001b[0;34m\"Error\"\u001b[0m\u001b[0;34m,\u001b[0m \u001b[0;34m{\u001b[0m\u001b[0;34m}\u001b[0m\u001b[0;34m)\u001b[0m\u001b[0;34m.\u001b[0m\u001b[0mget\u001b[0m\u001b[0;34m(\u001b[0m\u001b[0;34m\"Code\"\u001b[0m\u001b[0;34m)\u001b[0m\u001b[0;34m\u001b[0m\u001b[0;34m\u001b[0m\u001b[0m\n\u001b[1;32m    959\u001b[0m             \u001b[0merror_class\u001b[0m \u001b[0;34m=\u001b[0m \u001b[0mself\u001b[0m\u001b[0;34m.\u001b[0m\u001b[0mexceptions\u001b[0m\u001b[0;34m.\u001b[0m\u001b[0mfrom_code\u001b[0m\u001b[0;34m(\u001b[0m\u001b[0merror_code\u001b[0m\u001b[0;34m)\u001b[0m\u001b[0;34m\u001b[0m\u001b[0;34m\u001b[0m\u001b[0m\n\u001b[0;32m--> 960\u001b[0;31m             \u001b[0;32mraise\u001b[0m \u001b[0merror_class\u001b[0m\u001b[0;34m(\u001b[0m\u001b[0mparsed_response\u001b[0m\u001b[0;34m,\u001b[0m \u001b[0moperation_name\u001b[0m\u001b[0;34m)\u001b[0m\u001b[0;34m\u001b[0m\u001b[0;34m\u001b[0m\u001b[0m\n\u001b[0m\u001b[1;32m    961\u001b[0m         \u001b[0;32melse\u001b[0m\u001b[0;34m:\u001b[0m\u001b[0;34m\u001b[0m\u001b[0;34m\u001b[0m\u001b[0m\n\u001b[1;32m    962\u001b[0m             \u001b[0;32mreturn\u001b[0m \u001b[0mparsed_response\u001b[0m\u001b[0;34m\u001b[0m\u001b[0;34m\u001b[0m\u001b[0m\n",
      "\u001b[0;31mClientError\u001b[0m: An error occurred (ValidationException) when calling the CreateModel operation: Using non-ECR image \"ghcr.io/huggingface/text-generation-inference:sagemaker-sha-4b5e36d\" without Vpc repository access mode is not supported."
     ]
    }
   ],
   "source": [
    "# Deploy model to an endpoint\n",
    "# https://sagemaker.readthedocs.io/en/stable/api/inference/model.html#sagemaker.model.Model.deploy\n",
    "predictor = bloom_model.deploy(\n",
    "  initial_instance_count=1,\n",
    "  instance_type=instance_type,\n",
    "  volume_size=volume_size, \n",
    "  container_startup_health_check_timeout=health_check_timeout, # 10 minutes to be able to load the model\n",
    ")\n"
   ]
  },
  {
   "attachments": {},
   "cell_type": "markdown",
   "metadata": {},
   "source": [
    "SageMaker will now create our endpoint and deploy the model to it. This can takes a 15-30 minutes."
   ]
  },
  {
   "attachments": {},
   "cell_type": "markdown",
   "metadata": {},
   "source": [
    "## 4. Run inference on BLOOM with different parameters\n",
    "\n",
    "After our endpoint is deployed we can run inference on it. We will use the `predict` method from the `predictor`to run inference on our endpoint. We will run inference with different parameters to impact the generation. Parameters can be defined as in the `parameters` attribute of the payload. As of today the text-generation-inference container supports the following parameters:\n",
    "* `temperature`: Controls randomness in the model. Lower values will make the model more deterministic and higher values will make the model more random. Default value is 1.0.\n",
    "* `max_new_tokens`: The maximum number of tokens to generate. Default value is 20, max value is 512.\n",
    "* `repetition_penalty`: Controls the likelihood of repetition.\n",
    "* `seed`: The seed to use for random generation.\n",
    "* `stop`: A list of tokens to stop the generation. The generation will stop when one of the tokens is generated.\n",
    "* `top_k`: The number of highest probability vocabulary tokens to keep for top-k-filtering. Default value is 0, which disables top-k-filtering.\n",
    "* `top_p`: The cumulative probability of parameter highest probability vocabulary tokens to keep for nucleus sampling.\n",
    "* `do_sample`: Whether or not to use sampling ; use greedy decoding otherwise. Default value is True.\n",
    "\n",
    "You can find the open api specification of the text-generation-inference container [here](https://huggingface.github.io/text-generation-inference/)"
   ]
  },
  {
   "cell_type": "code",
   "execution_count": null,
   "metadata": {},
   "outputs": [],
   "source": [
    "predictor.predict({\n",
    "\t\"inputs\": \"Can you please let us know more details about your \"\n",
    "})"
   ]
  },
  {
   "attachments": {},
   "cell_type": "markdown",
   "metadata": {},
   "source": [
    "Now we will run inference with different parameters to impact the generation. Parameters can be defined as in the `parameters` attribute of the payload."
   ]
  },
  {
   "cell_type": "code",
   "execution_count": null,
   "metadata": {},
   "outputs": [],
   "source": [
    "# define payload\n",
    "payload = {\n",
    "  \"inputs\": \"Can you please let us know more details about your \",\n",
    "  \"parametes\": {\n",
    "    \"temperature\": 0.7,\n",
    "    \"stop\": [\".\"],\n",
    "    \"top_k\": 50,\n",
    "  }\n",
    "}\n",
    "\n",
    "# send request to endpoint\n",
    "response = predictor.predict(payload)\n",
    "\n",
    "print(response)"
   ]
  },
  {
   "attachments": {},
   "cell_type": "markdown",
   "metadata": {},
   "source": [
    "## 5. Run token streaming on BLOOM\n",
    "\n",
    "Text Generation Inference supports token streaming using Server-Sent Events (SSE). This means that the text-generation-inference container will stream the generated tokens back to the client, while the generation is still running. This is useful for long generation tasks where the client wants to see the generation in real-time and gives a better user experience. \n",
    "\n",
    "To use token streaming we need to pass the `stream` parameter in our payload and use for python the `sseclient-py` library to read the stream. We cannot use the `predict` method from the `predictor` to run inference on our endpoint. We need to use the `requests` library to send the request to the endpoint using a manuall create AWS Signature Version 4. You can find more information about the AWS Signature Version 4 [here](https://docs.aws.amazon.com/general/latest/gr/signature-version-4.html)."
   ]
  },
  {
   "cell_type": "code",
   "execution_count": 29,
   "metadata": {},
   "outputs": [],
   "source": [
    "!pip install sseclient-py --quiet"
   ]
  },
  {
   "attachments": {},
   "cell_type": "markdown",
   "metadata": {},
   "source": [
    "Now we will run inference with token streaming. We will use the `sseclient-py` library to read the stream and print the generated tokens. "
   ]
  },
  {
   "cell_type": "code",
   "execution_count": null,
   "metadata": {},
   "outputs": [],
   "source": [
    "import boto3\n",
    "from botocore.auth import SigV4Auth\n",
    "from botocore.awsrequest import AWSRequest\n",
    "import requests\n",
    "\n",
    "\n",
    "# https://gist.github.com/marcogrcr/6f0645b20847be4ef9cd6742427fc97b\n",
    "# https://github.com/andrewjroth/requests-auth-aws-sigv4\n",
    "# https://github.com/boto/botocore/issues/1784#issuecomment-659132830\n",
    "session = boto3.Session()\n",
    "credentials = session.get_credentials()\n",
    "creds = credentials.get_frozen_credentials()\n",
    "\n",
    "def signed_request(method, url, data=None, params=None, headers=None):\n",
    "    request = AWSRequest(method=method, url=url, data=data, params=params, headers=headers)\n",
    "    # \"service_name\" is generally \"execute-api\" for signing API Gateway requests\n",
    "    SigV4Auth(creds, \"service_name\", REGION).add_auth(request)\n",
    "    return requests.request(method=method, url=url, headers=dict(request.headers), data=data)\n",
    "\n",
    "def main():\n",
    "    url = f\"my.url.example.com/path\"\n",
    "    data = {\"environmentId\": self._environment_id}\n",
    "    headers = {'Content-Type': 'application/x-amz-json-1.1'}\n",
    "    response = signed_request(method='POST', url=url, data=data, headers=headers)"
   ]
  },
  {
   "cell_type": "code",
   "execution_count": 17,
   "metadata": {},
   "outputs": [
    {
     "name": "stdout",
     "output_type": "stream",
     "text": [
      "am  a French student . I am  a fan of the French football team , FC Nantes . "
     ]
    }
   ],
   "source": [
    "import sseclient\n",
    "import requests\n",
    "import json\n",
    "\n",
    "prompt = \"My name is Olivier and I\"\n",
    "\n",
    "r = requests.post(\"https://flan-t5-xxl.ngrok.io/generate_stream\",stream=True, json={\"inputs\":prompt})\n",
    "\n",
    "sse_client = sseclient.SSEClient(r)\n",
    "\n",
    "for i, event in enumerate(sse_client.events()):\n",
    "    token = json.loads(event.data)[\"token\"][\"text\"]\n",
    "    print(token, end = ' ')"
   ]
  },
  {
   "attachments": {},
   "cell_type": "markdown",
   "metadata": {},
   "source": [
    "## 6. Clean up\n",
    "\n",
    "To clean up, we can delete the model and endpoint.\n"
   ]
  },
  {
   "cell_type": "code",
   "execution_count": null,
   "metadata": {},
   "outputs": [],
   "source": [
    "\n",
    "predictor.delete_model()\n",
    "predictor.delete_endpoint()"
   ]
  }
 ],
 "metadata": {
  "kernelspec": {
   "display_name": "hf",
   "language": "python",
   "name": "python3"
  },
  "language_info": {
   "codemirror_mode": {
    "name": "ipython",
    "version": 3
   },
   "file_extension": ".py",
   "mimetype": "text/x-python",
   "name": "python",
   "nbconvert_exporter": "python",
   "pygments_lexer": "ipython3",
   "version": "3.8.12"
  },
  "orig_nbformat": 4,
  "vscode": {
   "interpreter": {
    "hash": "5fcf248a74081676ead7e77f54b2c239ba2921b952f7cbcdbbe5427323165924"
   }
  }
 },
 "nbformat": 4,
 "nbformat_minor": 2
}
